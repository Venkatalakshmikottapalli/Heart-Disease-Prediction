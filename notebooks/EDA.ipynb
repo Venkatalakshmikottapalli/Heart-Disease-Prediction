{
 "cells": [
  {
   "cell_type": "markdown",
   "metadata": {},
   "source": [
    "##  ML Final Project - Heart Disease Prediction"
   ]
  },
  {
   "cell_type": "markdown",
   "metadata": {},
   "source": [
    "## Introduction\n",
    "\n",
    "The Heart disease is one of the leading causes of death globally. Early identification of individuals at risk, particularly for heart attacks, can significantly improve survival rates by enabling timely interventions and preventive care. With the advancements in machine learning, predictive models can analyze health data and accurately predict heart disease risk, helping medical professionals identify and treat high-risk patients more effectively.\n",
    "As a data scientist collaborating with healthcare organizations, my goal is to reduce the risk of heart attacks by developing models that can predict which individuals are at high risk. By analyzing health indicators such as blood pressure, cholesterol levels, lifestyle habits, and demographics, we can provide earlier interventions and allocate healthcare resources more effectively.\n"
   ]
  },
  {
   "cell_type": "markdown",
   "metadata": {},
   "source": [
    "## Data Summary\n",
    "\n",
    "- HeartDiseaseorAttack: Indicates if the individual has heart disease or has had a heart attack (1 = Yes, 0 = No).\n",
    "  - datatype: Categorical (Binary)\n",
    "- HighBP: Indicates if the individual has high blood pressure (1 = Yes, 0 = No).\n",
    "  - datatype: Categorical (Binary)\n",
    "- HighChol: Indicates if the individual has high cholesterol (1 = Yes, 0 = No).\n",
    "  - datatype: Categorical (Binary)\n",
    "- CholCheck\tIndicates if the individual has had their cholesterol checked (1 = Yes, 0 = No).\n",
    "  - datatype: Categorical (Binary)\n",
    "- BMI: Body Mass Index, a measure of body fat based on height and weight.\n",
    "  - datatype: Numerical Continuous\n",
    "- Smoker: Indicates if the individual is a smoker (1 = Yes, 0 = No).\n",
    "  - datatype: Categorical (Binary)\n",
    "- Stroke: Indicates if the individual has had a stroke (1 = Yes, 0 = No).\n",
    "  - datatype: Categorical (Binary)\n",
    "- Diabetes: Indicates if the individual has diabetes (1 = Yes, 0 = No).\n",
    "  - datatype: Categorical (Binary)\n",
    "- PhysActivity: Indicates if the individual engages in physical activity (1 = Yes, 0 = No).\n",
    "  - datatype: Categorical (Binary)\n",
    "- Fruits: Indicates if the individual consumes fruits (1 = Yes, 0 = No).\n",
    "  - datatype: Categorical (Binary)\n",
    "- Veggies: Indicates if the individual consumes vegetables (1 = Yes, 0 = No).\n",
    "  - datatype: Categorical (Binary)\n",
    "- HvyAlcoholConsump: Indicates if the individual consumes alcohol heavily (1 = Yes, 0 = No).\n",
    "  - datatype: Categorical (Binary)\n",
    "- AnyHealthcare: Indicates if the individual has any form of healthcare coverage (1 = Yes, 0 = No).\n",
    "  - datatype: Categorical (Binary)\t\n",
    "- NoDocbcCost: Indicates if the individual has had no doctor due to cost (1 = Yes, 0 = No).\n",
    "  - datatype: Categorical (Binary)\n",
    "- GenHlth: General health rating (1-5 scale, where 1 = poor and 5 = excellent).\n",
    "  - datatype: Categorical Ordinal\n",
    "- MentHlth: Number of days in the past month when mental health was not good.\n",
    "  - datatype: Numerical Continuous\n",
    "- PhysHlth: Number of days in the past month when physical health was not good.\n",
    "  - datatype: Numerical Continuous\n",
    "- DiffWalk: Indicates if the individual has difficulty walking (1 = Yes, 0 = No).\n",
    "  - datatype: Categorical (Binary)\n",
    "- Sex: Gender of the individual (1 = Male, 0 = Female).\n",
    "  - datatype: Categorical (Binary)\n",
    "- Age: Age follows scale (1 - 18).\n",
    "  - datatype: categorical oridnal\n",
    "- Education: Education level (scale from lower to higher education(1-5)).\n",
    "  - datatype: Categorical Ordinal\n",
    "- Income: Income level (scale from low to high income categories(1-5)).\n",
    "  - datatype: Categorical Ordinal"
   ]
  },
  {
   "cell_type": "markdown",
   "metadata": {},
   "source": [
    "## Import the libraries"
   ]
  },
  {
   "cell_type": "code",
   "execution_count": 168,
   "metadata": {},
   "outputs": [],
   "source": [
    "# Import the libraries\n",
    "import pandas as pd\n",
    "import numpy as np\n",
    "import matplotlib.pyplot as plt\n",
    "import seaborn as sns\n",
    "from scipy.stats import chi2_contingency\n",
    "from sklearn.pipeline import Pipeline\n",
    "from sklearn.preprocessing import StandardScaler, OrdinalEncoder, OneHotEncoder\n",
    "from sklearn.compose import ColumnTransformer\n",
    "from imblearn.over_sampling import SMOTE\n",
    "from sklearn.model_selection import train_test_split\n",
    "from sklearn.ensemble import RandomForestClassifier\n",
    "from sklearn.naive_bayes import GaussianNB\n",
    "from sklearn.linear_model import LogisticRegression\n",
    "from sklearn.tree import DecisionTreeClassifier\n",
    "from sklearn.ensemble import RandomForestClassifier\n",
    "from sklearn.svm import SVC\n",
    "from sklearn import svm\n",
    "from sklearn.ensemble import GradientBoostingClassifier\n",
    "import xgboost as xgb\n",
    "from sklearn.metrics import accuracy_score, precision_score, recall_score, f1_score\n",
    "from sklearn.metrics import accuracy_score, classification_report, confusion_matrix, ConfusionMatrixDisplay\n",
    "from sklearn.metrics import roc_auc_score\n",
    "import warnings\n",
    "warnings.filterwarnings(action=\"ignore\")"
   ]
  },
  {
   "cell_type": "markdown",
   "metadata": {},
   "source": [
    "## Load the data"
   ]
  },
  {
   "cell_type": "code",
   "execution_count": 169,
   "metadata": {},
   "outputs": [
    {
     "data": {
      "text/html": [
       "<div>\n",
       "<style scoped>\n",
       "    .dataframe tbody tr th:only-of-type {\n",
       "        vertical-align: middle;\n",
       "    }\n",
       "\n",
       "    .dataframe tbody tr th {\n",
       "        vertical-align: top;\n",
       "    }\n",
       "\n",
       "    .dataframe thead th {\n",
       "        text-align: right;\n",
       "    }\n",
       "</style>\n",
       "<table border=\"1\" class=\"dataframe\">\n",
       "  <thead>\n",
       "    <tr style=\"text-align: right;\">\n",
       "      <th></th>\n",
       "      <th>HeartDiseaseorAttack</th>\n",
       "      <th>HighBP</th>\n",
       "      <th>HighChol</th>\n",
       "      <th>CholCheck</th>\n",
       "      <th>BMI</th>\n",
       "      <th>Smoker</th>\n",
       "      <th>Stroke</th>\n",
       "      <th>Diabetes</th>\n",
       "      <th>PhysActivity</th>\n",
       "      <th>Fruits</th>\n",
       "      <th>...</th>\n",
       "      <th>AnyHealthcare</th>\n",
       "      <th>NoDocbcCost</th>\n",
       "      <th>GenHlth</th>\n",
       "      <th>MentHlth</th>\n",
       "      <th>PhysHlth</th>\n",
       "      <th>DiffWalk</th>\n",
       "      <th>Sex</th>\n",
       "      <th>Age</th>\n",
       "      <th>Education</th>\n",
       "      <th>Income</th>\n",
       "    </tr>\n",
       "  </thead>\n",
       "  <tbody>\n",
       "    <tr>\n",
       "      <th>0</th>\n",
       "      <td>0</td>\n",
       "      <td>1</td>\n",
       "      <td>1</td>\n",
       "      <td>1</td>\n",
       "      <td>40</td>\n",
       "      <td>1</td>\n",
       "      <td>0</td>\n",
       "      <td>0</td>\n",
       "      <td>0</td>\n",
       "      <td>0</td>\n",
       "      <td>...</td>\n",
       "      <td>1</td>\n",
       "      <td>0</td>\n",
       "      <td>5</td>\n",
       "      <td>18</td>\n",
       "      <td>15</td>\n",
       "      <td>1</td>\n",
       "      <td>0</td>\n",
       "      <td>9</td>\n",
       "      <td>4</td>\n",
       "      <td>3</td>\n",
       "    </tr>\n",
       "    <tr>\n",
       "      <th>1</th>\n",
       "      <td>0</td>\n",
       "      <td>0</td>\n",
       "      <td>0</td>\n",
       "      <td>0</td>\n",
       "      <td>25</td>\n",
       "      <td>1</td>\n",
       "      <td>0</td>\n",
       "      <td>0</td>\n",
       "      <td>1</td>\n",
       "      <td>0</td>\n",
       "      <td>...</td>\n",
       "      <td>0</td>\n",
       "      <td>1</td>\n",
       "      <td>3</td>\n",
       "      <td>0</td>\n",
       "      <td>0</td>\n",
       "      <td>0</td>\n",
       "      <td>0</td>\n",
       "      <td>7</td>\n",
       "      <td>6</td>\n",
       "      <td>1</td>\n",
       "    </tr>\n",
       "    <tr>\n",
       "      <th>2</th>\n",
       "      <td>0</td>\n",
       "      <td>1</td>\n",
       "      <td>1</td>\n",
       "      <td>1</td>\n",
       "      <td>28</td>\n",
       "      <td>0</td>\n",
       "      <td>0</td>\n",
       "      <td>0</td>\n",
       "      <td>0</td>\n",
       "      <td>1</td>\n",
       "      <td>...</td>\n",
       "      <td>1</td>\n",
       "      <td>1</td>\n",
       "      <td>5</td>\n",
       "      <td>30</td>\n",
       "      <td>30</td>\n",
       "      <td>1</td>\n",
       "      <td>0</td>\n",
       "      <td>9</td>\n",
       "      <td>4</td>\n",
       "      <td>8</td>\n",
       "    </tr>\n",
       "    <tr>\n",
       "      <th>3</th>\n",
       "      <td>0</td>\n",
       "      <td>1</td>\n",
       "      <td>0</td>\n",
       "      <td>1</td>\n",
       "      <td>27</td>\n",
       "      <td>0</td>\n",
       "      <td>0</td>\n",
       "      <td>0</td>\n",
       "      <td>1</td>\n",
       "      <td>1</td>\n",
       "      <td>...</td>\n",
       "      <td>1</td>\n",
       "      <td>0</td>\n",
       "      <td>2</td>\n",
       "      <td>0</td>\n",
       "      <td>0</td>\n",
       "      <td>0</td>\n",
       "      <td>0</td>\n",
       "      <td>11</td>\n",
       "      <td>3</td>\n",
       "      <td>6</td>\n",
       "    </tr>\n",
       "    <tr>\n",
       "      <th>4</th>\n",
       "      <td>0</td>\n",
       "      <td>1</td>\n",
       "      <td>1</td>\n",
       "      <td>1</td>\n",
       "      <td>24</td>\n",
       "      <td>0</td>\n",
       "      <td>0</td>\n",
       "      <td>0</td>\n",
       "      <td>1</td>\n",
       "      <td>1</td>\n",
       "      <td>...</td>\n",
       "      <td>1</td>\n",
       "      <td>0</td>\n",
       "      <td>2</td>\n",
       "      <td>3</td>\n",
       "      <td>0</td>\n",
       "      <td>0</td>\n",
       "      <td>0</td>\n",
       "      <td>11</td>\n",
       "      <td>5</td>\n",
       "      <td>4</td>\n",
       "    </tr>\n",
       "  </tbody>\n",
       "</table>\n",
       "<p>5 rows × 22 columns</p>\n",
       "</div>"
      ],
      "text/plain": [
       "   HeartDiseaseorAttack  HighBP  HighChol  CholCheck  BMI  Smoker  Stroke  \\\n",
       "0                     0       1         1          1   40       1       0   \n",
       "1                     0       0         0          0   25       1       0   \n",
       "2                     0       1         1          1   28       0       0   \n",
       "3                     0       1         0          1   27       0       0   \n",
       "4                     0       1         1          1   24       0       0   \n",
       "\n",
       "   Diabetes  PhysActivity  Fruits  ...  AnyHealthcare  NoDocbcCost  GenHlth  \\\n",
       "0         0             0       0  ...              1            0        5   \n",
       "1         0             1       0  ...              0            1        3   \n",
       "2         0             0       1  ...              1            1        5   \n",
       "3         0             1       1  ...              1            0        2   \n",
       "4         0             1       1  ...              1            0        2   \n",
       "\n",
       "   MentHlth  PhysHlth  DiffWalk  Sex  Age  Education  Income  \n",
       "0        18        15         1    0    9          4       3  \n",
       "1         0         0         0    0    7          6       1  \n",
       "2        30        30         1    0    9          4       8  \n",
       "3         0         0         0    0   11          3       6  \n",
       "4         3         0         0    0   11          5       4  \n",
       "\n",
       "[5 rows x 22 columns]"
      ]
     },
     "execution_count": 169,
     "metadata": {},
     "output_type": "execute_result"
    }
   ],
   "source": [
    "# Load the dataset\n",
    "df = pd.read_csv('https://raw.githubusercontent.com/Venkatalakshmikottapalli/Heart-Disease-Prediction/refs/heads/main/data/raw/heart_disease_health_indicators.csv')\n",
    "\n",
    "# Print the head of the dataset\n",
    "df.head()"
   ]
  },
  {
   "cell_type": "markdown",
   "metadata": {},
   "source": [
    "## Check for the nulls"
   ]
  },
  {
   "cell_type": "code",
   "execution_count": 170,
   "metadata": {},
   "outputs": [
    {
     "name": "stdout",
     "output_type": "stream",
     "text": [
      "<class 'pandas.core.frame.DataFrame'>\n",
      "RangeIndex: 253661 entries, 0 to 253660\n",
      "Data columns (total 22 columns):\n",
      " #   Column                Non-Null Count   Dtype\n",
      "---  ------                --------------   -----\n",
      " 0   HeartDiseaseorAttack  253661 non-null  int64\n",
      " 1   HighBP                253661 non-null  int64\n",
      " 2   HighChol              253661 non-null  int64\n",
      " 3   CholCheck             253661 non-null  int64\n",
      " 4   BMI                   253661 non-null  int64\n",
      " 5   Smoker                253661 non-null  int64\n",
      " 6   Stroke                253661 non-null  int64\n",
      " 7   Diabetes              253661 non-null  int64\n",
      " 8   PhysActivity          253661 non-null  int64\n",
      " 9   Fruits                253661 non-null  int64\n",
      " 10  Veggies               253661 non-null  int64\n",
      " 11  HvyAlcoholConsump     253661 non-null  int64\n",
      " 12  AnyHealthcare         253661 non-null  int64\n",
      " 13  NoDocbcCost           253661 non-null  int64\n",
      " 14  GenHlth               253661 non-null  int64\n",
      " 15  MentHlth              253661 non-null  int64\n",
      " 16  PhysHlth              253661 non-null  int64\n",
      " 17  DiffWalk              253661 non-null  int64\n",
      " 18  Sex                   253661 non-null  int64\n",
      " 19  Age                   253661 non-null  int64\n",
      " 20  Education             253661 non-null  int64\n",
      " 21  Income                253661 non-null  int64\n",
      "dtypes: int64(22)\n",
      "memory usage: 42.6 MB\n"
     ]
    }
   ],
   "source": [
    "df.info()"
   ]
  },
  {
   "cell_type": "markdown",
   "metadata": {},
   "source": [
    "## Check for Duplicates"
   ]
  },
  {
   "cell_type": "code",
   "execution_count": 171,
   "metadata": {},
   "outputs": [
    {
     "data": {
      "text/html": [
       "<div>\n",
       "<style scoped>\n",
       "    .dataframe tbody tr th:only-of-type {\n",
       "        vertical-align: middle;\n",
       "    }\n",
       "\n",
       "    .dataframe tbody tr th {\n",
       "        vertical-align: top;\n",
       "    }\n",
       "\n",
       "    .dataframe thead th {\n",
       "        text-align: right;\n",
       "    }\n",
       "</style>\n",
       "<table border=\"1\" class=\"dataframe\">\n",
       "  <thead>\n",
       "    <tr style=\"text-align: right;\">\n",
       "      <th></th>\n",
       "      <th>HeartDiseaseorAttack</th>\n",
       "      <th>HighBP</th>\n",
       "      <th>HighChol</th>\n",
       "      <th>CholCheck</th>\n",
       "      <th>BMI</th>\n",
       "      <th>Smoker</th>\n",
       "      <th>Stroke</th>\n",
       "      <th>Diabetes</th>\n",
       "      <th>PhysActivity</th>\n",
       "      <th>Fruits</th>\n",
       "      <th>...</th>\n",
       "      <th>AnyHealthcare</th>\n",
       "      <th>NoDocbcCost</th>\n",
       "      <th>GenHlth</th>\n",
       "      <th>MentHlth</th>\n",
       "      <th>PhysHlth</th>\n",
       "      <th>DiffWalk</th>\n",
       "      <th>Sex</th>\n",
       "      <th>Age</th>\n",
       "      <th>Education</th>\n",
       "      <th>Income</th>\n",
       "    </tr>\n",
       "  </thead>\n",
       "  <tbody>\n",
       "    <tr>\n",
       "      <th>1242</th>\n",
       "      <td>0</td>\n",
       "      <td>1</td>\n",
       "      <td>1</td>\n",
       "      <td>1</td>\n",
       "      <td>27</td>\n",
       "      <td>1</td>\n",
       "      <td>0</td>\n",
       "      <td>2</td>\n",
       "      <td>0</td>\n",
       "      <td>0</td>\n",
       "      <td>...</td>\n",
       "      <td>1</td>\n",
       "      <td>0</td>\n",
       "      <td>5</td>\n",
       "      <td>0</td>\n",
       "      <td>30</td>\n",
       "      <td>1</td>\n",
       "      <td>0</td>\n",
       "      <td>10</td>\n",
       "      <td>4</td>\n",
       "      <td>5</td>\n",
       "    </tr>\n",
       "    <tr>\n",
       "      <th>1563</th>\n",
       "      <td>0</td>\n",
       "      <td>0</td>\n",
       "      <td>0</td>\n",
       "      <td>1</td>\n",
       "      <td>21</td>\n",
       "      <td>1</td>\n",
       "      <td>0</td>\n",
       "      <td>0</td>\n",
       "      <td>1</td>\n",
       "      <td>1</td>\n",
       "      <td>...</td>\n",
       "      <td>1</td>\n",
       "      <td>0</td>\n",
       "      <td>1</td>\n",
       "      <td>0</td>\n",
       "      <td>0</td>\n",
       "      <td>0</td>\n",
       "      <td>0</td>\n",
       "      <td>4</td>\n",
       "      <td>6</td>\n",
       "      <td>8</td>\n",
       "    </tr>\n",
       "    <tr>\n",
       "      <th>2700</th>\n",
       "      <td>0</td>\n",
       "      <td>0</td>\n",
       "      <td>0</td>\n",
       "      <td>1</td>\n",
       "      <td>32</td>\n",
       "      <td>0</td>\n",
       "      <td>0</td>\n",
       "      <td>0</td>\n",
       "      <td>1</td>\n",
       "      <td>1</td>\n",
       "      <td>...</td>\n",
       "      <td>1</td>\n",
       "      <td>0</td>\n",
       "      <td>2</td>\n",
       "      <td>0</td>\n",
       "      <td>0</td>\n",
       "      <td>0</td>\n",
       "      <td>0</td>\n",
       "      <td>5</td>\n",
       "      <td>6</td>\n",
       "      <td>8</td>\n",
       "    </tr>\n",
       "    <tr>\n",
       "      <th>3160</th>\n",
       "      <td>0</td>\n",
       "      <td>0</td>\n",
       "      <td>0</td>\n",
       "      <td>1</td>\n",
       "      <td>21</td>\n",
       "      <td>0</td>\n",
       "      <td>0</td>\n",
       "      <td>0</td>\n",
       "      <td>1</td>\n",
       "      <td>1</td>\n",
       "      <td>...</td>\n",
       "      <td>1</td>\n",
       "      <td>0</td>\n",
       "      <td>1</td>\n",
       "      <td>0</td>\n",
       "      <td>0</td>\n",
       "      <td>0</td>\n",
       "      <td>0</td>\n",
       "      <td>4</td>\n",
       "      <td>6</td>\n",
       "      <td>8</td>\n",
       "    </tr>\n",
       "    <tr>\n",
       "      <th>3332</th>\n",
       "      <td>0</td>\n",
       "      <td>0</td>\n",
       "      <td>0</td>\n",
       "      <td>1</td>\n",
       "      <td>24</td>\n",
       "      <td>0</td>\n",
       "      <td>0</td>\n",
       "      <td>0</td>\n",
       "      <td>1</td>\n",
       "      <td>1</td>\n",
       "      <td>...</td>\n",
       "      <td>1</td>\n",
       "      <td>0</td>\n",
       "      <td>1</td>\n",
       "      <td>0</td>\n",
       "      <td>0</td>\n",
       "      <td>0</td>\n",
       "      <td>1</td>\n",
       "      <td>9</td>\n",
       "      <td>6</td>\n",
       "      <td>8</td>\n",
       "    </tr>\n",
       "    <tr>\n",
       "      <th>...</th>\n",
       "      <td>...</td>\n",
       "      <td>...</td>\n",
       "      <td>...</td>\n",
       "      <td>...</td>\n",
       "      <td>...</td>\n",
       "      <td>...</td>\n",
       "      <td>...</td>\n",
       "      <td>...</td>\n",
       "      <td>...</td>\n",
       "      <td>...</td>\n",
       "      <td>...</td>\n",
       "      <td>...</td>\n",
       "      <td>...</td>\n",
       "      <td>...</td>\n",
       "      <td>...</td>\n",
       "      <td>...</td>\n",
       "      <td>...</td>\n",
       "      <td>...</td>\n",
       "      <td>...</td>\n",
       "      <td>...</td>\n",
       "      <td>...</td>\n",
       "    </tr>\n",
       "    <tr>\n",
       "      <th>253492</th>\n",
       "      <td>0</td>\n",
       "      <td>1</td>\n",
       "      <td>1</td>\n",
       "      <td>1</td>\n",
       "      <td>33</td>\n",
       "      <td>0</td>\n",
       "      <td>0</td>\n",
       "      <td>2</td>\n",
       "      <td>1</td>\n",
       "      <td>1</td>\n",
       "      <td>...</td>\n",
       "      <td>1</td>\n",
       "      <td>0</td>\n",
       "      <td>3</td>\n",
       "      <td>0</td>\n",
       "      <td>0</td>\n",
       "      <td>0</td>\n",
       "      <td>1</td>\n",
       "      <td>9</td>\n",
       "      <td>6</td>\n",
       "      <td>6</td>\n",
       "    </tr>\n",
       "    <tr>\n",
       "      <th>253550</th>\n",
       "      <td>0</td>\n",
       "      <td>0</td>\n",
       "      <td>0</td>\n",
       "      <td>1</td>\n",
       "      <td>25</td>\n",
       "      <td>0</td>\n",
       "      <td>0</td>\n",
       "      <td>0</td>\n",
       "      <td>1</td>\n",
       "      <td>1</td>\n",
       "      <td>...</td>\n",
       "      <td>1</td>\n",
       "      <td>0</td>\n",
       "      <td>1</td>\n",
       "      <td>0</td>\n",
       "      <td>0</td>\n",
       "      <td>0</td>\n",
       "      <td>0</td>\n",
       "      <td>7</td>\n",
       "      <td>6</td>\n",
       "      <td>8</td>\n",
       "    </tr>\n",
       "    <tr>\n",
       "      <th>253563</th>\n",
       "      <td>0</td>\n",
       "      <td>0</td>\n",
       "      <td>1</td>\n",
       "      <td>1</td>\n",
       "      <td>24</td>\n",
       "      <td>1</td>\n",
       "      <td>0</td>\n",
       "      <td>0</td>\n",
       "      <td>1</td>\n",
       "      <td>1</td>\n",
       "      <td>...</td>\n",
       "      <td>1</td>\n",
       "      <td>0</td>\n",
       "      <td>2</td>\n",
       "      <td>0</td>\n",
       "      <td>0</td>\n",
       "      <td>0</td>\n",
       "      <td>1</td>\n",
       "      <td>8</td>\n",
       "      <td>6</td>\n",
       "      <td>8</td>\n",
       "    </tr>\n",
       "    <tr>\n",
       "      <th>253597</th>\n",
       "      <td>0</td>\n",
       "      <td>0</td>\n",
       "      <td>0</td>\n",
       "      <td>1</td>\n",
       "      <td>24</td>\n",
       "      <td>0</td>\n",
       "      <td>0</td>\n",
       "      <td>0</td>\n",
       "      <td>1</td>\n",
       "      <td>1</td>\n",
       "      <td>...</td>\n",
       "      <td>1</td>\n",
       "      <td>0</td>\n",
       "      <td>2</td>\n",
       "      <td>0</td>\n",
       "      <td>0</td>\n",
       "      <td>0</td>\n",
       "      <td>0</td>\n",
       "      <td>5</td>\n",
       "      <td>6</td>\n",
       "      <td>8</td>\n",
       "    </tr>\n",
       "    <tr>\n",
       "      <th>253638</th>\n",
       "      <td>0</td>\n",
       "      <td>0</td>\n",
       "      <td>0</td>\n",
       "      <td>1</td>\n",
       "      <td>24</td>\n",
       "      <td>0</td>\n",
       "      <td>0</td>\n",
       "      <td>0</td>\n",
       "      <td>1</td>\n",
       "      <td>1</td>\n",
       "      <td>...</td>\n",
       "      <td>1</td>\n",
       "      <td>0</td>\n",
       "      <td>2</td>\n",
       "      <td>0</td>\n",
       "      <td>0</td>\n",
       "      <td>0</td>\n",
       "      <td>1</td>\n",
       "      <td>1</td>\n",
       "      <td>4</td>\n",
       "      <td>6</td>\n",
       "    </tr>\n",
       "  </tbody>\n",
       "</table>\n",
       "<p>23899 rows × 22 columns</p>\n",
       "</div>"
      ],
      "text/plain": [
       "        HeartDiseaseorAttack  HighBP  HighChol  CholCheck  BMI  Smoker  \\\n",
       "1242                       0       1         1          1   27       1   \n",
       "1563                       0       0         0          1   21       1   \n",
       "2700                       0       0         0          1   32       0   \n",
       "3160                       0       0         0          1   21       0   \n",
       "3332                       0       0         0          1   24       0   \n",
       "...                      ...     ...       ...        ...  ...     ...   \n",
       "253492                     0       1         1          1   33       0   \n",
       "253550                     0       0         0          1   25       0   \n",
       "253563                     0       0         1          1   24       1   \n",
       "253597                     0       0         0          1   24       0   \n",
       "253638                     0       0         0          1   24       0   \n",
       "\n",
       "        Stroke  Diabetes  PhysActivity  Fruits  ...  AnyHealthcare  \\\n",
       "1242         0         2             0       0  ...              1   \n",
       "1563         0         0             1       1  ...              1   \n",
       "2700         0         0             1       1  ...              1   \n",
       "3160         0         0             1       1  ...              1   \n",
       "3332         0         0             1       1  ...              1   \n",
       "...        ...       ...           ...     ...  ...            ...   \n",
       "253492       0         2             1       1  ...              1   \n",
       "253550       0         0             1       1  ...              1   \n",
       "253563       0         0             1       1  ...              1   \n",
       "253597       0         0             1       1  ...              1   \n",
       "253638       0         0             1       1  ...              1   \n",
       "\n",
       "        NoDocbcCost  GenHlth  MentHlth  PhysHlth  DiffWalk  Sex  Age  \\\n",
       "1242              0        5         0        30         1    0   10   \n",
       "1563              0        1         0         0         0    0    4   \n",
       "2700              0        2         0         0         0    0    5   \n",
       "3160              0        1         0         0         0    0    4   \n",
       "3332              0        1         0         0         0    1    9   \n",
       "...             ...      ...       ...       ...       ...  ...  ...   \n",
       "253492            0        3         0         0         0    1    9   \n",
       "253550            0        1         0         0         0    0    7   \n",
       "253563            0        2         0         0         0    1    8   \n",
       "253597            0        2         0         0         0    0    5   \n",
       "253638            0        2         0         0         0    1    1   \n",
       "\n",
       "        Education  Income  \n",
       "1242            4       5  \n",
       "1563            6       8  \n",
       "2700            6       8  \n",
       "3160            6       8  \n",
       "3332            6       8  \n",
       "...           ...     ...  \n",
       "253492          6       6  \n",
       "253550          6       8  \n",
       "253563          6       8  \n",
       "253597          6       8  \n",
       "253638          4       6  \n",
       "\n",
       "[23899 rows x 22 columns]"
      ]
     },
     "execution_count": 171,
     "metadata": {},
     "output_type": "execute_result"
    }
   ],
   "source": [
    "# Check for duplicates\n",
    "duplicates = df[df.duplicated()]\n",
    "duplicates"
   ]
  },
  {
   "cell_type": "markdown",
   "metadata": {},
   "source": [
    "## Remove Duplicates"
   ]
  },
  {
   "cell_type": "code",
   "execution_count": 172,
   "metadata": {},
   "outputs": [],
   "source": [
    "# Remove Duplicates\n",
    "df = df.drop_duplicates()"
   ]
  },
  {
   "cell_type": "code",
   "execution_count": 173,
   "metadata": {},
   "outputs": [
    {
     "data": {
      "text/html": [
       "<div>\n",
       "<style scoped>\n",
       "    .dataframe tbody tr th:only-of-type {\n",
       "        vertical-align: middle;\n",
       "    }\n",
       "\n",
       "    .dataframe tbody tr th {\n",
       "        vertical-align: top;\n",
       "    }\n",
       "\n",
       "    .dataframe thead th {\n",
       "        text-align: right;\n",
       "    }\n",
       "</style>\n",
       "<table border=\"1\" class=\"dataframe\">\n",
       "  <thead>\n",
       "    <tr style=\"text-align: right;\">\n",
       "      <th></th>\n",
       "      <th>HeartDiseaseorAttack</th>\n",
       "      <th>HighBP</th>\n",
       "      <th>HighChol</th>\n",
       "      <th>CholCheck</th>\n",
       "      <th>BMI</th>\n",
       "      <th>Smoker</th>\n",
       "      <th>Stroke</th>\n",
       "      <th>Diabetes</th>\n",
       "      <th>PhysActivity</th>\n",
       "      <th>Fruits</th>\n",
       "      <th>...</th>\n",
       "      <th>AnyHealthcare</th>\n",
       "      <th>NoDocbcCost</th>\n",
       "      <th>GenHlth</th>\n",
       "      <th>MentHlth</th>\n",
       "      <th>PhysHlth</th>\n",
       "      <th>DiffWalk</th>\n",
       "      <th>Sex</th>\n",
       "      <th>Age</th>\n",
       "      <th>Education</th>\n",
       "      <th>Income</th>\n",
       "    </tr>\n",
       "  </thead>\n",
       "  <tbody>\n",
       "  </tbody>\n",
       "</table>\n",
       "<p>0 rows × 22 columns</p>\n",
       "</div>"
      ],
      "text/plain": [
       "Empty DataFrame\n",
       "Columns: [HeartDiseaseorAttack, HighBP, HighChol, CholCheck, BMI, Smoker, Stroke, Diabetes, PhysActivity, Fruits, Veggies, HvyAlcoholConsump, AnyHealthcare, NoDocbcCost, GenHlth, MentHlth, PhysHlth, DiffWalk, Sex, Age, Education, Income]\n",
       "Index: []\n",
       "\n",
       "[0 rows x 22 columns]"
      ]
     },
     "execution_count": 173,
     "metadata": {},
     "output_type": "execute_result"
    }
   ],
   "source": [
    "# Check for duplicates again\n",
    "duplicates = df[df.duplicated()]\n",
    "duplicates"
   ]
  },
  {
   "cell_type": "markdown",
   "metadata": {},
   "source": [
    "## Descriptive Statistics"
   ]
  },
  {
   "cell_type": "code",
   "execution_count": 174,
   "metadata": {},
   "outputs": [
    {
     "data": {
      "text/html": [
       "<div>\n",
       "<style scoped>\n",
       "    .dataframe tbody tr th:only-of-type {\n",
       "        vertical-align: middle;\n",
       "    }\n",
       "\n",
       "    .dataframe tbody tr th {\n",
       "        vertical-align: top;\n",
       "    }\n",
       "\n",
       "    .dataframe thead th {\n",
       "        text-align: right;\n",
       "    }\n",
       "</style>\n",
       "<table border=\"1\" class=\"dataframe\">\n",
       "  <thead>\n",
       "    <tr style=\"text-align: right;\">\n",
       "      <th></th>\n",
       "      <th>HeartDiseaseorAttack</th>\n",
       "      <th>HighBP</th>\n",
       "      <th>HighChol</th>\n",
       "      <th>CholCheck</th>\n",
       "      <th>BMI</th>\n",
       "      <th>Smoker</th>\n",
       "      <th>Stroke</th>\n",
       "      <th>Diabetes</th>\n",
       "      <th>PhysActivity</th>\n",
       "      <th>Fruits</th>\n",
       "      <th>...</th>\n",
       "      <th>AnyHealthcare</th>\n",
       "      <th>NoDocbcCost</th>\n",
       "      <th>GenHlth</th>\n",
       "      <th>MentHlth</th>\n",
       "      <th>PhysHlth</th>\n",
       "      <th>DiffWalk</th>\n",
       "      <th>Sex</th>\n",
       "      <th>Age</th>\n",
       "      <th>Education</th>\n",
       "      <th>Income</th>\n",
       "    </tr>\n",
       "  </thead>\n",
       "  <tbody>\n",
       "    <tr>\n",
       "      <th>count</th>\n",
       "      <td>229762.000000</td>\n",
       "      <td>229762.000000</td>\n",
       "      <td>229762.000000</td>\n",
       "      <td>229762.000000</td>\n",
       "      <td>229762.000000</td>\n",
       "      <td>229762.000000</td>\n",
       "      <td>229762.000000</td>\n",
       "      <td>229762.000000</td>\n",
       "      <td>229762.000000</td>\n",
       "      <td>229762.000000</td>\n",
       "      <td>...</td>\n",
       "      <td>229762.000000</td>\n",
       "      <td>229762.000000</td>\n",
       "      <td>229762.000000</td>\n",
       "      <td>229762.000000</td>\n",
       "      <td>229762.000000</td>\n",
       "      <td>229762.000000</td>\n",
       "      <td>229762.000000</td>\n",
       "      <td>229762.000000</td>\n",
       "      <td>229762.000000</td>\n",
       "      <td>229762.000000</td>\n",
       "    </tr>\n",
       "    <tr>\n",
       "      <th>mean</th>\n",
       "      <td>0.103202</td>\n",
       "      <td>0.454431</td>\n",
       "      <td>0.441753</td>\n",
       "      <td>0.959532</td>\n",
       "      <td>28.685818</td>\n",
       "      <td>0.465682</td>\n",
       "      <td>0.044755</td>\n",
       "      <td>0.325611</td>\n",
       "      <td>0.733389</td>\n",
       "      <td>0.612973</td>\n",
       "      <td>...</td>\n",
       "      <td>0.946070</td>\n",
       "      <td>0.092796</td>\n",
       "      <td>2.601144</td>\n",
       "      <td>3.505406</td>\n",
       "      <td>4.675155</td>\n",
       "      <td>0.185505</td>\n",
       "      <td>0.439237</td>\n",
       "      <td>8.086672</td>\n",
       "      <td>4.980593</td>\n",
       "      <td>5.890565</td>\n",
       "    </tr>\n",
       "    <tr>\n",
       "      <th>std</th>\n",
       "      <td>0.304224</td>\n",
       "      <td>0.497920</td>\n",
       "      <td>0.496597</td>\n",
       "      <td>0.197054</td>\n",
       "      <td>6.786308</td>\n",
       "      <td>0.498822</td>\n",
       "      <td>0.206766</td>\n",
       "      <td>0.724613</td>\n",
       "      <td>0.442188</td>\n",
       "      <td>0.487071</td>\n",
       "      <td>...</td>\n",
       "      <td>0.225879</td>\n",
       "      <td>0.290147</td>\n",
       "      <td>1.064680</td>\n",
       "      <td>7.713722</td>\n",
       "      <td>9.046547</td>\n",
       "      <td>0.388708</td>\n",
       "      <td>0.496295</td>\n",
       "      <td>3.093792</td>\n",
       "      <td>0.992835</td>\n",
       "      <td>2.092372</td>\n",
       "    </tr>\n",
       "    <tr>\n",
       "      <th>min</th>\n",
       "      <td>0.000000</td>\n",
       "      <td>0.000000</td>\n",
       "      <td>0.000000</td>\n",
       "      <td>0.000000</td>\n",
       "      <td>12.000000</td>\n",
       "      <td>0.000000</td>\n",
       "      <td>0.000000</td>\n",
       "      <td>0.000000</td>\n",
       "      <td>0.000000</td>\n",
       "      <td>0.000000</td>\n",
       "      <td>...</td>\n",
       "      <td>0.000000</td>\n",
       "      <td>0.000000</td>\n",
       "      <td>1.000000</td>\n",
       "      <td>0.000000</td>\n",
       "      <td>0.000000</td>\n",
       "      <td>0.000000</td>\n",
       "      <td>0.000000</td>\n",
       "      <td>1.000000</td>\n",
       "      <td>1.000000</td>\n",
       "      <td>1.000000</td>\n",
       "    </tr>\n",
       "    <tr>\n",
       "      <th>25%</th>\n",
       "      <td>0.000000</td>\n",
       "      <td>0.000000</td>\n",
       "      <td>0.000000</td>\n",
       "      <td>1.000000</td>\n",
       "      <td>24.000000</td>\n",
       "      <td>0.000000</td>\n",
       "      <td>0.000000</td>\n",
       "      <td>0.000000</td>\n",
       "      <td>0.000000</td>\n",
       "      <td>0.000000</td>\n",
       "      <td>...</td>\n",
       "      <td>1.000000</td>\n",
       "      <td>0.000000</td>\n",
       "      <td>2.000000</td>\n",
       "      <td>0.000000</td>\n",
       "      <td>0.000000</td>\n",
       "      <td>0.000000</td>\n",
       "      <td>0.000000</td>\n",
       "      <td>6.000000</td>\n",
       "      <td>4.000000</td>\n",
       "      <td>5.000000</td>\n",
       "    </tr>\n",
       "    <tr>\n",
       "      <th>50%</th>\n",
       "      <td>0.000000</td>\n",
       "      <td>0.000000</td>\n",
       "      <td>0.000000</td>\n",
       "      <td>1.000000</td>\n",
       "      <td>27.000000</td>\n",
       "      <td>0.000000</td>\n",
       "      <td>0.000000</td>\n",
       "      <td>0.000000</td>\n",
       "      <td>1.000000</td>\n",
       "      <td>1.000000</td>\n",
       "      <td>...</td>\n",
       "      <td>1.000000</td>\n",
       "      <td>0.000000</td>\n",
       "      <td>3.000000</td>\n",
       "      <td>0.000000</td>\n",
       "      <td>0.000000</td>\n",
       "      <td>0.000000</td>\n",
       "      <td>0.000000</td>\n",
       "      <td>8.000000</td>\n",
       "      <td>5.000000</td>\n",
       "      <td>6.000000</td>\n",
       "    </tr>\n",
       "    <tr>\n",
       "      <th>75%</th>\n",
       "      <td>0.000000</td>\n",
       "      <td>1.000000</td>\n",
       "      <td>1.000000</td>\n",
       "      <td>1.000000</td>\n",
       "      <td>32.000000</td>\n",
       "      <td>1.000000</td>\n",
       "      <td>0.000000</td>\n",
       "      <td>0.000000</td>\n",
       "      <td>1.000000</td>\n",
       "      <td>1.000000</td>\n",
       "      <td>...</td>\n",
       "      <td>1.000000</td>\n",
       "      <td>0.000000</td>\n",
       "      <td>3.000000</td>\n",
       "      <td>2.000000</td>\n",
       "      <td>4.000000</td>\n",
       "      <td>0.000000</td>\n",
       "      <td>1.000000</td>\n",
       "      <td>10.000000</td>\n",
       "      <td>6.000000</td>\n",
       "      <td>8.000000</td>\n",
       "    </tr>\n",
       "    <tr>\n",
       "      <th>max</th>\n",
       "      <td>1.000000</td>\n",
       "      <td>1.000000</td>\n",
       "      <td>1.000000</td>\n",
       "      <td>1.000000</td>\n",
       "      <td>98.000000</td>\n",
       "      <td>1.000000</td>\n",
       "      <td>1.000000</td>\n",
       "      <td>2.000000</td>\n",
       "      <td>1.000000</td>\n",
       "      <td>1.000000</td>\n",
       "      <td>...</td>\n",
       "      <td>1.000000</td>\n",
       "      <td>1.000000</td>\n",
       "      <td>5.000000</td>\n",
       "      <td>30.000000</td>\n",
       "      <td>30.000000</td>\n",
       "      <td>1.000000</td>\n",
       "      <td>1.000000</td>\n",
       "      <td>13.000000</td>\n",
       "      <td>6.000000</td>\n",
       "      <td>8.000000</td>\n",
       "    </tr>\n",
       "  </tbody>\n",
       "</table>\n",
       "<p>8 rows × 22 columns</p>\n",
       "</div>"
      ],
      "text/plain": [
       "       HeartDiseaseorAttack         HighBP       HighChol      CholCheck  \\\n",
       "count         229762.000000  229762.000000  229762.000000  229762.000000   \n",
       "mean               0.103202       0.454431       0.441753       0.959532   \n",
       "std                0.304224       0.497920       0.496597       0.197054   \n",
       "min                0.000000       0.000000       0.000000       0.000000   \n",
       "25%                0.000000       0.000000       0.000000       1.000000   \n",
       "50%                0.000000       0.000000       0.000000       1.000000   \n",
       "75%                0.000000       1.000000       1.000000       1.000000   \n",
       "max                1.000000       1.000000       1.000000       1.000000   \n",
       "\n",
       "                 BMI         Smoker         Stroke       Diabetes  \\\n",
       "count  229762.000000  229762.000000  229762.000000  229762.000000   \n",
       "mean       28.685818       0.465682       0.044755       0.325611   \n",
       "std         6.786308       0.498822       0.206766       0.724613   \n",
       "min        12.000000       0.000000       0.000000       0.000000   \n",
       "25%        24.000000       0.000000       0.000000       0.000000   \n",
       "50%        27.000000       0.000000       0.000000       0.000000   \n",
       "75%        32.000000       1.000000       0.000000       0.000000   \n",
       "max        98.000000       1.000000       1.000000       2.000000   \n",
       "\n",
       "        PhysActivity         Fruits  ...  AnyHealthcare    NoDocbcCost  \\\n",
       "count  229762.000000  229762.000000  ...  229762.000000  229762.000000   \n",
       "mean        0.733389       0.612973  ...       0.946070       0.092796   \n",
       "std         0.442188       0.487071  ...       0.225879       0.290147   \n",
       "min         0.000000       0.000000  ...       0.000000       0.000000   \n",
       "25%         0.000000       0.000000  ...       1.000000       0.000000   \n",
       "50%         1.000000       1.000000  ...       1.000000       0.000000   \n",
       "75%         1.000000       1.000000  ...       1.000000       0.000000   \n",
       "max         1.000000       1.000000  ...       1.000000       1.000000   \n",
       "\n",
       "             GenHlth       MentHlth       PhysHlth       DiffWalk  \\\n",
       "count  229762.000000  229762.000000  229762.000000  229762.000000   \n",
       "mean        2.601144       3.505406       4.675155       0.185505   \n",
       "std         1.064680       7.713722       9.046547       0.388708   \n",
       "min         1.000000       0.000000       0.000000       0.000000   \n",
       "25%         2.000000       0.000000       0.000000       0.000000   \n",
       "50%         3.000000       0.000000       0.000000       0.000000   \n",
       "75%         3.000000       2.000000       4.000000       0.000000   \n",
       "max         5.000000      30.000000      30.000000       1.000000   \n",
       "\n",
       "                 Sex            Age      Education         Income  \n",
       "count  229762.000000  229762.000000  229762.000000  229762.000000  \n",
       "mean        0.439237       8.086672       4.980593       5.890565  \n",
       "std         0.496295       3.093792       0.992835       2.092372  \n",
       "min         0.000000       1.000000       1.000000       1.000000  \n",
       "25%         0.000000       6.000000       4.000000       5.000000  \n",
       "50%         0.000000       8.000000       5.000000       6.000000  \n",
       "75%         1.000000      10.000000       6.000000       8.000000  \n",
       "max         1.000000      13.000000       6.000000       8.000000  \n",
       "\n",
       "[8 rows x 22 columns]"
      ]
     },
     "execution_count": 174,
     "metadata": {},
     "output_type": "execute_result"
    }
   ],
   "source": [
    "# Descriptive statistics of the dataset\n",
    "df.describe()"
   ]
  },
  {
   "cell_type": "markdown",
   "metadata": {},
   "source": [
    "## Exploaratory Data Analysis"
   ]
  },
  {
   "cell_type": "code",
   "execution_count": 175,
   "metadata": {},
   "outputs": [
    {
     "data": {
      "text/html": [
       "<div>\n",
       "<style scoped>\n",
       "    .dataframe tbody tr th:only-of-type {\n",
       "        vertical-align: middle;\n",
       "    }\n",
       "\n",
       "    .dataframe tbody tr th {\n",
       "        vertical-align: top;\n",
       "    }\n",
       "\n",
       "    .dataframe thead th {\n",
       "        text-align: right;\n",
       "    }\n",
       "</style>\n",
       "<table border=\"1\" class=\"dataframe\">\n",
       "  <thead>\n",
       "    <tr style=\"text-align: right;\">\n",
       "      <th></th>\n",
       "      <th>HeartDiseaseorAttack</th>\n",
       "      <th>HighBP</th>\n",
       "      <th>HighChol</th>\n",
       "      <th>CholCheck</th>\n",
       "      <th>BMI</th>\n",
       "      <th>Smoker</th>\n",
       "      <th>Stroke</th>\n",
       "      <th>Diabetes</th>\n",
       "      <th>PhysActivity</th>\n",
       "      <th>Fruits</th>\n",
       "      <th>...</th>\n",
       "      <th>AnyHealthcare</th>\n",
       "      <th>NoDocbcCost</th>\n",
       "      <th>GenHlth</th>\n",
       "      <th>MentHlth</th>\n",
       "      <th>PhysHlth</th>\n",
       "      <th>DiffWalk</th>\n",
       "      <th>Sex</th>\n",
       "      <th>Age</th>\n",
       "      <th>Education</th>\n",
       "      <th>Income</th>\n",
       "    </tr>\n",
       "  </thead>\n",
       "  <tbody>\n",
       "    <tr>\n",
       "      <th>0</th>\n",
       "      <td>0</td>\n",
       "      <td>1</td>\n",
       "      <td>1</td>\n",
       "      <td>1</td>\n",
       "      <td>40</td>\n",
       "      <td>1</td>\n",
       "      <td>0</td>\n",
       "      <td>0</td>\n",
       "      <td>0</td>\n",
       "      <td>0</td>\n",
       "      <td>...</td>\n",
       "      <td>1</td>\n",
       "      <td>0</td>\n",
       "      <td>5</td>\n",
       "      <td>18</td>\n",
       "      <td>15</td>\n",
       "      <td>1</td>\n",
       "      <td>0</td>\n",
       "      <td>9</td>\n",
       "      <td>4</td>\n",
       "      <td>3</td>\n",
       "    </tr>\n",
       "    <tr>\n",
       "      <th>1</th>\n",
       "      <td>0</td>\n",
       "      <td>0</td>\n",
       "      <td>0</td>\n",
       "      <td>0</td>\n",
       "      <td>25</td>\n",
       "      <td>1</td>\n",
       "      <td>0</td>\n",
       "      <td>0</td>\n",
       "      <td>1</td>\n",
       "      <td>0</td>\n",
       "      <td>...</td>\n",
       "      <td>0</td>\n",
       "      <td>1</td>\n",
       "      <td>3</td>\n",
       "      <td>0</td>\n",
       "      <td>0</td>\n",
       "      <td>0</td>\n",
       "      <td>0</td>\n",
       "      <td>7</td>\n",
       "      <td>6</td>\n",
       "      <td>1</td>\n",
       "    </tr>\n",
       "    <tr>\n",
       "      <th>2</th>\n",
       "      <td>0</td>\n",
       "      <td>1</td>\n",
       "      <td>1</td>\n",
       "      <td>1</td>\n",
       "      <td>28</td>\n",
       "      <td>0</td>\n",
       "      <td>0</td>\n",
       "      <td>0</td>\n",
       "      <td>0</td>\n",
       "      <td>1</td>\n",
       "      <td>...</td>\n",
       "      <td>1</td>\n",
       "      <td>1</td>\n",
       "      <td>5</td>\n",
       "      <td>30</td>\n",
       "      <td>30</td>\n",
       "      <td>1</td>\n",
       "      <td>0</td>\n",
       "      <td>9</td>\n",
       "      <td>4</td>\n",
       "      <td>8</td>\n",
       "    </tr>\n",
       "    <tr>\n",
       "      <th>3</th>\n",
       "      <td>0</td>\n",
       "      <td>1</td>\n",
       "      <td>0</td>\n",
       "      <td>1</td>\n",
       "      <td>27</td>\n",
       "      <td>0</td>\n",
       "      <td>0</td>\n",
       "      <td>0</td>\n",
       "      <td>1</td>\n",
       "      <td>1</td>\n",
       "      <td>...</td>\n",
       "      <td>1</td>\n",
       "      <td>0</td>\n",
       "      <td>2</td>\n",
       "      <td>0</td>\n",
       "      <td>0</td>\n",
       "      <td>0</td>\n",
       "      <td>0</td>\n",
       "      <td>11</td>\n",
       "      <td>3</td>\n",
       "      <td>6</td>\n",
       "    </tr>\n",
       "    <tr>\n",
       "      <th>4</th>\n",
       "      <td>0</td>\n",
       "      <td>1</td>\n",
       "      <td>1</td>\n",
       "      <td>1</td>\n",
       "      <td>24</td>\n",
       "      <td>0</td>\n",
       "      <td>0</td>\n",
       "      <td>0</td>\n",
       "      <td>1</td>\n",
       "      <td>1</td>\n",
       "      <td>...</td>\n",
       "      <td>1</td>\n",
       "      <td>0</td>\n",
       "      <td>2</td>\n",
       "      <td>3</td>\n",
       "      <td>0</td>\n",
       "      <td>0</td>\n",
       "      <td>0</td>\n",
       "      <td>11</td>\n",
       "      <td>5</td>\n",
       "      <td>4</td>\n",
       "    </tr>\n",
       "  </tbody>\n",
       "</table>\n",
       "<p>5 rows × 22 columns</p>\n",
       "</div>"
      ],
      "text/plain": [
       "   HeartDiseaseorAttack  HighBP  HighChol  CholCheck  BMI  Smoker  Stroke  \\\n",
       "0                     0       1         1          1   40       1       0   \n",
       "1                     0       0         0          0   25       1       0   \n",
       "2                     0       1         1          1   28       0       0   \n",
       "3                     0       1         0          1   27       0       0   \n",
       "4                     0       1         1          1   24       0       0   \n",
       "\n",
       "   Diabetes  PhysActivity  Fruits  ...  AnyHealthcare  NoDocbcCost  GenHlth  \\\n",
       "0         0             0       0  ...              1            0        5   \n",
       "1         0             1       0  ...              0            1        3   \n",
       "2         0             0       1  ...              1            1        5   \n",
       "3         0             1       1  ...              1            0        2   \n",
       "4         0             1       1  ...              1            0        2   \n",
       "\n",
       "   MentHlth  PhysHlth  DiffWalk  Sex  Age  Education  Income  \n",
       "0        18        15         1    0    9          4       3  \n",
       "1         0         0         0    0    7          6       1  \n",
       "2        30        30         1    0    9          4       8  \n",
       "3         0         0         0    0   11          3       6  \n",
       "4         3         0         0    0   11          5       4  \n",
       "\n",
       "[5 rows x 22 columns]"
      ]
     },
     "execution_count": 175,
     "metadata": {},
     "output_type": "execute_result"
    }
   ],
   "source": [
    "# Print the head of the dataset\n",
    "df.head()"
   ]
  },
  {
   "cell_type": "code",
   "execution_count": null,
   "metadata": {},
   "outputs": [],
   "source": [
    "# Plot histograms for dataset\n",
    "df.hist(bins=30, figsize=(15, 10), color='red', edgecolor='black') \n",
    "plt.suptitle('Data Distribution - Histogram')\n",
    "plt.show()"
   ]
  },
  {
   "cell_type": "markdown",
   "metadata": {},
   "source": [
    "## Univariate Analysis"
   ]
  },
  {
   "cell_type": "markdown",
   "metadata": {},
   "source": [
    "## 1. HeartDiseaseorAttack"
   ]
  },
  {
   "cell_type": "code",
   "execution_count": null,
   "metadata": {},
   "outputs": [],
   "source": [
    "# Get summary statistics for heartdiseaseorattack\n",
    "df['HeartDiseaseorAttack'].describe()"
   ]
  },
  {
   "cell_type": "code",
   "execution_count": null,
   "metadata": {},
   "outputs": [],
   "source": [
    "# Create the count plot \n",
    "plt.figure(figsize=(5, 4))\n",
    "sns.countplot(x='HeartDiseaseorAttack', data=df, hue='HeartDiseaseorAttack', palette='Set2', legend=False)\n",
    "plt.title('Count of Heart Disease or Attack', fontsize=16)\n",
    "plt.show()"
   ]
  },
  {
   "cell_type": "markdown",
   "metadata": {},
   "source": [
    "## 2. High BP"
   ]
  },
  {
   "cell_type": "code",
   "execution_count": null,
   "metadata": {},
   "outputs": [],
   "source": [
    "# Get summary statistics for HighBP\n",
    "df['HighBP'].describe()"
   ]
  },
  {
   "cell_type": "code",
   "execution_count": null,
   "metadata": {},
   "outputs": [],
   "source": [
    "# Create the count plot \n",
    "plt.figure(figsize=(5, 4))\n",
    "sns.countplot(x='HighBP', data=df, hue='HighBP', palette='Set1', legend=False)\n",
    "plt.title('Count of HighBP', fontsize=16)\n",
    "plt.show()"
   ]
  },
  {
   "cell_type": "markdown",
   "metadata": {},
   "source": [
    "## 3. HightChol"
   ]
  },
  {
   "cell_type": "code",
   "execution_count": null,
   "metadata": {},
   "outputs": [],
   "source": [
    "# Get summary statistics for HighChol\n",
    "df['HighChol'].describe()"
   ]
  },
  {
   "cell_type": "code",
   "execution_count": null,
   "metadata": {},
   "outputs": [],
   "source": [
    "# Create the count plot \n",
    "plt.figure(figsize=(5, 4))\n",
    "sns.countplot(x='HighChol', data=df, hue='HighChol', palette='pastel', legend=False)\n",
    "plt.title('Count ofHighChol', fontsize=16)\n",
    "plt.show()"
   ]
  },
  {
   "cell_type": "markdown",
   "metadata": {},
   "source": [
    "## 4.CholCheck"
   ]
  },
  {
   "cell_type": "code",
   "execution_count": null,
   "metadata": {},
   "outputs": [],
   "source": [
    "# Get summary statistics for CholCheck\n",
    "df['CholCheck'].describe()"
   ]
  },
  {
   "cell_type": "code",
   "execution_count": null,
   "metadata": {},
   "outputs": [],
   "source": [
    "# Create the count plot \n",
    "plt.figure(figsize=(5, 4))\n",
    "sns.countplot(x='CholCheck', data=df, hue='CholCheck', palette='deep', legend=False)\n",
    "plt.title('Count of CholCheck', fontsize=16)\n",
    "plt.show()\n"
   ]
  },
  {
   "cell_type": "markdown",
   "metadata": {},
   "source": [
    "## 5.BMI"
   ]
  },
  {
   "cell_type": "code",
   "execution_count": null,
   "metadata": {},
   "outputs": [],
   "source": [
    "# Get summary statistics for BMI\n",
    "df['BMI'].describe()"
   ]
  },
  {
   "cell_type": "code",
   "execution_count": null,
   "metadata": {},
   "outputs": [],
   "source": [
    "# Create the count plot \n",
    "plt.figure(figsize=(20, 8))\n",
    "sns.countplot(x='BMI', data=df, hue='BMI', palette='bright', legend=False)\n",
    "plt.title('Count of BMI', fontsize=16)\n",
    "plt.show()"
   ]
  },
  {
   "cell_type": "code",
   "execution_count": null,
   "metadata": {},
   "outputs": [],
   "source": [
    "# Plotting for BMI\n",
    "plt.figure(figsize=(8, 4))\n",
    "\n",
    "# Box Plot for BMI\n",
    "plt.subplot(1, 2, 1)\n",
    "sns.boxplot(y=df['BMI'])\n",
    "plt.title('Boxplot of BMI')\n",
    "plt.xlabel('BMI')\n",
    "\n",
    "# Histogram for BMI\n",
    "plt.subplot(1, 2, 2)\n",
    "sns.histplot(df['BMI'], bins=10, kde=True)\n",
    "plt.title('Histogram of BMI')\n",
    "plt.xlabel('BMI')\n",
    "plt.ylabel('Frequency')\n",
    "\n",
    "plt.tight_layout()\n",
    "plt.show()"
   ]
  },
  {
   "cell_type": "markdown",
   "metadata": {},
   "source": [
    "## 6.Smoker"
   ]
  },
  {
   "cell_type": "code",
   "execution_count": null,
   "metadata": {},
   "outputs": [],
   "source": [
    "# Get summary statistics for Smoker\n",
    "df['Smoker'].describe()"
   ]
  },
  {
   "cell_type": "code",
   "execution_count": null,
   "metadata": {},
   "outputs": [],
   "source": [
    "# Create the count plot \n",
    "plt.figure(figsize=(5, 4))\n",
    "sns.countplot(x='Smoker', data=df, hue='Smoker', palette='muted', legend=False)\n",
    "plt.title('Count of Smoker', fontsize=16)\n",
    "plt.show()"
   ]
  },
  {
   "cell_type": "markdown",
   "metadata": {},
   "source": [
    "## 7. Diabetes"
   ]
  },
  {
   "cell_type": "code",
   "execution_count": null,
   "metadata": {},
   "outputs": [],
   "source": [
    "# Get summary statistics for Diabetes\n",
    "df['Diabetes'].describe()"
   ]
  },
  {
   "cell_type": "code",
   "execution_count": null,
   "metadata": {},
   "outputs": [],
   "source": [
    "# Create the count plot \n",
    "plt.figure(figsize=(5, 4))\n",
    "sns.countplot(x='Diabetes', data=df, hue='Diabetes', palette='bright', legend=False)\n",
    "plt.title('Count of Diabetes', fontsize=16)\n",
    "plt.show()"
   ]
  },
  {
   "cell_type": "markdown",
   "metadata": {},
   "source": [
    "## 8. PhysActivity"
   ]
  },
  {
   "cell_type": "code",
   "execution_count": null,
   "metadata": {},
   "outputs": [],
   "source": [
    "# Get summary statistics for PhysActivity\n",
    "df['PhysActivity'].describe()"
   ]
  },
  {
   "cell_type": "code",
   "execution_count": null,
   "metadata": {},
   "outputs": [],
   "source": [
    "# Create the count plot \n",
    "plt.figure(figsize=(5, 4))\n",
    "sns.countplot(x='PhysActivity', data=df, hue='PhysActivity', palette='dark', legend=False)\n",
    "plt.title('Count of PhysActivity', fontsize=16)\n",
    "plt.show()"
   ]
  },
  {
   "cell_type": "markdown",
   "metadata": {},
   "source": [
    "## 9. Fruits"
   ]
  },
  {
   "cell_type": "code",
   "execution_count": null,
   "metadata": {},
   "outputs": [],
   "source": [
    "# Get summary statistics for Fruits\n",
    "df['Fruits'].describe()"
   ]
  },
  {
   "cell_type": "code",
   "execution_count": null,
   "metadata": {},
   "outputs": [],
   "source": [
    "# Create the count plot \n",
    "plt.figure(figsize=(5, 4))\n",
    "sns.countplot(x='Fruits', data=df, hue='Fruits', palette='colorblind', legend=False)\n",
    "plt.title('Count of Fruits', fontsize=16)\n",
    "plt.show()"
   ]
  },
  {
   "cell_type": "markdown",
   "metadata": {},
   "source": [
    "## 10.Veggies"
   ]
  },
  {
   "cell_type": "code",
   "execution_count": null,
   "metadata": {},
   "outputs": [],
   "source": [
    "# Get summary statistics for Veggies\n",
    "df['Veggies'].describe()"
   ]
  },
  {
   "cell_type": "code",
   "execution_count": null,
   "metadata": {},
   "outputs": [],
   "source": [
    "# Create the count plot \n",
    "plt.figure(figsize=(5, 4))\n",
    "sns.countplot(x='Veggies', data=df, hue='Veggies', palette='deep', legend=False)\n",
    "plt.title('Count of Veggies', fontsize=16)\n",
    "plt.show()"
   ]
  },
  {
   "cell_type": "markdown",
   "metadata": {},
   "source": [
    "## 11. HvyAlcoholConsump"
   ]
  },
  {
   "cell_type": "code",
   "execution_count": null,
   "metadata": {},
   "outputs": [],
   "source": [
    "# Get summary statistics for HvyAlcoholConsump\n",
    "df['HvyAlcoholConsump'].describe()"
   ]
  },
  {
   "cell_type": "code",
   "execution_count": null,
   "metadata": {},
   "outputs": [],
   "source": [
    "# Create the count plot \n",
    "plt.figure(figsize=(5, 4))\n",
    "sns.countplot(x='HvyAlcoholConsump', data=df, hue='HvyAlcoholConsump', palette='muted', legend=False)\n",
    "plt.title('Count of HvyAlcoholConsump', fontsize=16)\n",
    "plt.show()"
   ]
  },
  {
   "cell_type": "markdown",
   "metadata": {},
   "source": [
    "## 12. AnyHealthcare"
   ]
  },
  {
   "cell_type": "code",
   "execution_count": null,
   "metadata": {},
   "outputs": [],
   "source": [
    "# Get summary statistics for AnyHealthcare\n",
    "df['AnyHealthcare'].describe()"
   ]
  },
  {
   "cell_type": "code",
   "execution_count": null,
   "metadata": {},
   "outputs": [],
   "source": [
    "# Create the count plot \n",
    "plt.figure(figsize=(5, 4))\n",
    "sns.countplot(x='AnyHealthcare', data=df, hue='AnyHealthcare', palette='bright', legend=False)\n",
    "plt.title('Count of AnyHealthcare', fontsize=16)\n",
    "plt.show()"
   ]
  },
  {
   "cell_type": "markdown",
   "metadata": {},
   "source": [
    "## 13. NoDocbcCost"
   ]
  },
  {
   "cell_type": "code",
   "execution_count": null,
   "metadata": {},
   "outputs": [],
   "source": [
    "# Get summary statistics for NoDocbcCost\n",
    "df['NoDocbcCost'].describe()"
   ]
  },
  {
   "cell_type": "code",
   "execution_count": null,
   "metadata": {},
   "outputs": [],
   "source": [
    "# Create the count plot \n",
    "plt.figure(figsize=(5, 4))\n",
    "sns.countplot(x='NoDocbcCost', data=df, hue='NoDocbcCost', palette='pastel', legend=False)\n",
    "plt.title('Count of NoDocbcCost', fontsize=16)\n",
    "plt.show()"
   ]
  },
  {
   "cell_type": "markdown",
   "metadata": {},
   "source": [
    "## 14. GenHlth"
   ]
  },
  {
   "cell_type": "code",
   "execution_count": null,
   "metadata": {},
   "outputs": [],
   "source": [
    "# Get summary statistics for GenHlth\n",
    "df['GenHlth'].describe()"
   ]
  },
  {
   "cell_type": "code",
   "execution_count": null,
   "metadata": {},
   "outputs": [],
   "source": [
    "# Create the count plot \n",
    "plt.figure(figsize=(5, 4))\n",
    "sns.countplot(x='GenHlth', data=df, hue='GenHlth', palette='Set1', legend=False)\n",
    "plt.title('Count of GenHlth', fontsize=16)\n",
    "plt.show()"
   ]
  },
  {
   "cell_type": "markdown",
   "metadata": {},
   "source": [
    "## 15. MentHlth"
   ]
  },
  {
   "cell_type": "code",
   "execution_count": null,
   "metadata": {},
   "outputs": [],
   "source": [
    "# Get summary statistics for MentHlth\n",
    "df['MentHlth'].describe()"
   ]
  },
  {
   "cell_type": "code",
   "execution_count": null,
   "metadata": {},
   "outputs": [],
   "source": [
    "# Create the count plot \n",
    "plt.figure(figsize=(10, 4))\n",
    "sns.countplot(x='MentHlth', data=df, hue='MentHlth', palette='bright', legend=False)\n",
    "plt.title('Count of MentHlth', fontsize=16)\n",
    "plt.show()"
   ]
  },
  {
   "cell_type": "code",
   "execution_count": null,
   "metadata": {},
   "outputs": [],
   "source": [
    "# Plotting for Mental Health (MentHlth)\n",
    "plt.figure(figsize=(8, 4))\n",
    "\n",
    "# Box Plot for MentHlth\n",
    "plt.subplot(1, 2, 1)\n",
    "sns.boxplot(y=df['MentHlth'])\n",
    "plt.title('Boxplot of Mental Health (MentHlth)')\n",
    "plt.xlabel('MentHlth')\n",
    "\n",
    "# Histogram for MentHlth\n",
    "plt.subplot(1, 2, 2)\n",
    "sns.histplot(df['MentHlth'], bins=10, kde=True)\n",
    "plt.title('Histogram of Mental Health (MentHlth)')\n",
    "plt.xlabel('MentHlth')\n",
    "plt.ylabel('Frequency')\n",
    "\n",
    "plt.tight_layout()\n",
    "plt.show()"
   ]
  },
  {
   "cell_type": "markdown",
   "metadata": {},
   "source": [
    "## 16. PhysHlth"
   ]
  },
  {
   "cell_type": "code",
   "execution_count": null,
   "metadata": {},
   "outputs": [],
   "source": [
    "# Get summary statistics for PhysHlth\n",
    "df['PhysHlth'].describe()"
   ]
  },
  {
   "cell_type": "code",
   "execution_count": null,
   "metadata": {},
   "outputs": [],
   "source": [
    "# Create the count plot \n",
    "plt.figure(figsize=(10, 4))\n",
    "sns.countplot(x='PhysHlth', data=df, hue='PhysHlth', palette='Set1', legend=False)\n",
    "plt.title('Count of PhysHlth', fontsize=16)\n",
    "plt.show()"
   ]
  },
  {
   "cell_type": "code",
   "execution_count": null,
   "metadata": {},
   "outputs": [],
   "source": [
    "# Plotting for Physical Health (PhysHlth)\n",
    "plt.figure(figsize=(10, 5))\n",
    "\n",
    "# Box Plot for PhysHlth\n",
    "plt.subplot(1, 2, 1)\n",
    "sns.boxplot(y=df['PhysHlth'])\n",
    "plt.title('Boxplot of Physical Health (PhysHlth)')\n",
    "plt.xlabel('PhysHlth')\n",
    "\n",
    "# Histogram for PhysHlth\n",
    "plt.subplot(1, 2, 2)\n",
    "sns.histplot(df['PhysHlth'], bins=10, kde=True)\n",
    "plt.title('Histogram of Physical Health (PhysHlth)')\n",
    "plt.xlabel('PhysHlth')\n",
    "plt.ylabel('Frequency')\n",
    "\n",
    "plt.tight_layout()\n",
    "plt.show()"
   ]
  },
  {
   "cell_type": "markdown",
   "metadata": {},
   "source": [
    "## 17. DiffWalk"
   ]
  },
  {
   "cell_type": "code",
   "execution_count": null,
   "metadata": {},
   "outputs": [],
   "source": [
    "# Get summary statistics for DiffWalk\n",
    "df['DiffWalk'].describe()"
   ]
  },
  {
   "cell_type": "code",
   "execution_count": null,
   "metadata": {},
   "outputs": [],
   "source": [
    "# Create the count plot \n",
    "plt.figure(figsize=(5, 4))\n",
    "sns.countplot(x='DiffWalk', data=df, hue='DiffWalk', palette='Set1', legend=False)\n",
    "plt.title('Count of DiffWalk', fontsize=16)\n",
    "plt.show()"
   ]
  },
  {
   "cell_type": "markdown",
   "metadata": {},
   "source": [
    "## 18. Sex"
   ]
  },
  {
   "cell_type": "code",
   "execution_count": null,
   "metadata": {},
   "outputs": [],
   "source": [
    "# Get summary statistics for sex\n",
    "df['Sex'].describe()"
   ]
  },
  {
   "cell_type": "code",
   "execution_count": null,
   "metadata": {},
   "outputs": [],
   "source": [
    "# Create the count plot \n",
    "plt.figure(figsize=(5, 4))\n",
    "sns.countplot(x='Sex', data=df, hue='Sex', palette='Set2', legend=False)\n",
    "plt.title('Count of Sex', fontsize=16)\n",
    "plt.show()"
   ]
  },
  {
   "cell_type": "markdown",
   "metadata": {},
   "source": [
    "## 19. Age"
   ]
  },
  {
   "cell_type": "code",
   "execution_count": null,
   "metadata": {},
   "outputs": [],
   "source": [
    "# Get summary statistics for Age\n",
    "df['Age'].describe()"
   ]
  },
  {
   "cell_type": "code",
   "execution_count": null,
   "metadata": {},
   "outputs": [],
   "source": [
    "# Create the count plot \n",
    "plt.figure(figsize=(6, 4))\n",
    "sns.countplot(x='Age', data=df, hue='Age', palette='bright', legend=False)\n",
    "plt.title('Count of Age', fontsize=16)\n",
    "plt.show()"
   ]
  },
  {
   "cell_type": "markdown",
   "metadata": {},
   "source": [
    "## 20. Education"
   ]
  },
  {
   "cell_type": "code",
   "execution_count": null,
   "metadata": {},
   "outputs": [],
   "source": [
    "# Get summary statistics for Education\n",
    "df['Education'].describe()"
   ]
  },
  {
   "cell_type": "code",
   "execution_count": null,
   "metadata": {},
   "outputs": [],
   "source": [
    "# Create the count plot \n",
    "plt.figure(figsize=(5, 4))\n",
    "sns.countplot(x='Education', data=df, hue='Education', palette='colorblind', legend=False)\n",
    "plt.title('Count of Education', fontsize=16)\n",
    "plt.show()"
   ]
  },
  {
   "cell_type": "markdown",
   "metadata": {},
   "source": [
    "## 21. Income"
   ]
  },
  {
   "cell_type": "code",
   "execution_count": null,
   "metadata": {},
   "outputs": [],
   "source": [
    "# Get summary statistics for Income\n",
    "df['Income'].describe()"
   ]
  },
  {
   "cell_type": "code",
   "execution_count": null,
   "metadata": {},
   "outputs": [],
   "source": [
    "# Create the count plot \n",
    "plt.figure(figsize=(5, 4))\n",
    "sns.countplot(x='Income', data=df, hue='Income', palette='bright', legend=False)\n",
    "plt.title('Count of Income', fontsize=16)\n",
    "plt.show()"
   ]
  },
  {
   "cell_type": "markdown",
   "metadata": {},
   "source": [
    "## 22. stroke"
   ]
  },
  {
   "cell_type": "code",
   "execution_count": null,
   "metadata": {},
   "outputs": [],
   "source": [
    "# Get summary statistics for stroke\n",
    "df['Stroke'].describe()"
   ]
  },
  {
   "cell_type": "code",
   "execution_count": null,
   "metadata": {},
   "outputs": [],
   "source": [
    "# Create the count plot \n",
    "plt.figure(figsize=(5, 4))\n",
    "sns.countplot(x='Stroke', data=df, hue='Stroke', palette='colorblind', legend=False)\n",
    "plt.title('Count of stroke', fontsize=16)\n",
    "plt.show()"
   ]
  },
  {
   "cell_type": "markdown",
   "metadata": {},
   "source": [
    "## Bivariate Analysis"
   ]
  },
  {
   "cell_type": "markdown",
   "metadata": {},
   "source": [
    "## 1.Heartdisease and highchol"
   ]
  },
  {
   "cell_type": "code",
   "execution_count": null,
   "metadata": {},
   "outputs": [],
   "source": [
    "CrosstabResult = pd.crosstab(index=df['HeartDiseaseorAttack'], columns=df['HighChol'])\n",
    "\n",
    "# Create the bar plot\n",
    "ax = CrosstabResult.plot.bar(figsize=(7, 4), rot=0)\n",
    "\n",
    "# Add title and axes labels\n",
    "plt.title('Heart Disease or Attack vs. High Cholesterol', fontsize=14)\n",
    "plt.xlabel('Heart Disease or Attack (0 = No, 1 = Yes)', fontsize=12)\n",
    "plt.ylabel('Count', fontsize=12)\n",
    "\n",
    "# legend title\n",
    "plt.legend(title='High Cholesterol (0 = No, 1 = Yes)', fontsize=10)\n",
    "\n",
    "# Show the plot\n",
    "plt.tight_layout()  \n",
    "plt.show()"
   ]
  },
  {
   "cell_type": "markdown",
   "metadata": {},
   "source": [
    "## 2.Heartdisease and highBP"
   ]
  },
  {
   "cell_type": "code",
   "execution_count": null,
   "metadata": {},
   "outputs": [],
   "source": [
    "CrosstabResult = pd.crosstab(index=df['HeartDiseaseorAttack'], columns=df['HighBP'])\n",
    "\n",
    "# Create the bar plot\n",
    "ax = CrosstabResult.plot.bar(figsize=(7, 4), rot=0)\n",
    "\n",
    "# Add title and axes labels\n",
    "plt.title('Heart Disease or Attack vs. High Blood Pressure', fontsize=14)\n",
    "plt.xlabel('Heart Disease or Attack (0 = No, 1 = Yes)', fontsize=12)\n",
    "plt.ylabel('Count', fontsize=12)\n",
    "\n",
    "# legend title\n",
    "plt.legend(title='High Blood Pressure (0 = No, 1 = Yes)', fontsize=10)\n",
    "\n",
    "# Show the plot\n",
    "plt.tight_layout()  \n",
    "plt.show()"
   ]
  },
  {
   "cell_type": "markdown",
   "metadata": {},
   "source": [
    "## 3. Heart Disease and Physical Activity"
   ]
  },
  {
   "cell_type": "code",
   "execution_count": null,
   "metadata": {},
   "outputs": [],
   "source": [
    "# Create the crosstab for HeartDiseaseorAttack and PhysActivity\n",
    "CrosstabResult = pd.crosstab(index=df['HeartDiseaseorAttack'], columns=df['PhysActivity'])\n",
    "\n",
    "# Create the bar plot\n",
    "plt.figure(figsize=(7, 4))\n",
    "ax = CrosstabResult.plot.bar(rot=0)\n",
    "\n",
    "# Add title and axes labels\n",
    "plt.title('Heart Disease or Attack vs. Physical Activity', fontsize=14)\n",
    "plt.xlabel('Heart Disease or Attack (0 = No, 1 = Yes)', fontsize=12)\n",
    "plt.ylabel('Count', fontsize=12)\n",
    "\n",
    "# legend title\n",
    "plt.legend(title='Physical Activity (0 = No, 1 = Yes)', fontsize=10)\n",
    "\n",
    "# Show the plot\n",
    "plt.tight_layout() \n",
    "plt.show()"
   ]
  },
  {
   "cell_type": "markdown",
   "metadata": {},
   "source": [
    "## 4. Heart Disease and Smoker"
   ]
  },
  {
   "cell_type": "code",
   "execution_count": null,
   "metadata": {},
   "outputs": [],
   "source": [
    "# Create the crosstab for HeartDiseaseorAttack and Smoker\n",
    "CrosstabResult = pd.crosstab(index=df['HeartDiseaseorAttack'], columns=df['Smoker'])\n",
    "\n",
    "# Create the bar plot\n",
    "plt.figure(figsize=(7, 4))\n",
    "ax = CrosstabResult.plot.bar(rot=0)\n",
    "\n",
    "# Add title and axes labels\n",
    "plt.title('Heart Disease or Attack vs. Smoking Status', fontsize=14)\n",
    "plt.xlabel('Heart Disease or Attack (0 = No, 1 = Yes)', fontsize=12)\n",
    "plt.ylabel('Count', fontsize=12)\n",
    "\n",
    "# legend title\n",
    "plt.legend(title='Smoker (0 = No, 1 = Yes)', fontsize=10)\n",
    "\n",
    "# Show the plot\n",
    "plt.tight_layout()  \n",
    "plt.show()"
   ]
  },
  {
   "cell_type": "markdown",
   "metadata": {},
   "source": [
    "## 5. Heart Disease and Age"
   ]
  },
  {
   "cell_type": "code",
   "execution_count": null,
   "metadata": {},
   "outputs": [],
   "source": [
    "# Create the box plot\n",
    "plt.figure(figsize=(8, 5))\n",
    "sns.boxplot(x='HeartDiseaseorAttack', y='Age', data=df)\n",
    "\n",
    "# Add title and axes labels\n",
    "plt.title('Age Distribution by Heart Disease or Attack', fontsize=14)\n",
    "plt.xlabel('Heart Disease or Attack (0 = No, 1 = Yes)', fontsize=12)\n",
    "plt.ylabel('Age', fontsize=12)\n",
    "\n",
    "# Show the plot\n",
    "plt.tight_layout() \n",
    "plt.show()"
   ]
  },
  {
   "cell_type": "markdown",
   "metadata": {},
   "source": [
    "## 6. Heart Disease and Sex"
   ]
  },
  {
   "cell_type": "code",
   "execution_count": null,
   "metadata": {},
   "outputs": [],
   "source": [
    "# Create a crosstab for HeartDiseaseorAttack and Sex\n",
    "CrosstabSex = pd.crosstab(index=df['HeartDiseaseorAttack'], columns=df['Sex'])\n",
    "\n",
    "# Create the bar plot\n",
    "plt.figure(figsize=(10, 4))\n",
    "ax = CrosstabSex.plot.bar(rot=0)\n",
    "\n",
    "# Add title and axes labels\n",
    "plt.title('Heart Disease or Attack vs. Sex', fontsize=14)\n",
    "plt.xlabel('Heart Disease or Attack (0 = No, 1 = Yes)', fontsize=12)\n",
    "plt.ylabel('Count', fontsize=12)\n",
    "\n",
    "# Add legend title\n",
    "plt.legend(title='Sex (0 = Female, 1 = Male)', fontsize=10)\n",
    "\n",
    "# Show the plot\n",
    "plt.tight_layout()  \n",
    "plt.show()"
   ]
  },
  {
   "cell_type": "markdown",
   "metadata": {},
   "source": [
    "## 7. Heart Disease and Heavy Alcohol Consumption"
   ]
  },
  {
   "cell_type": "code",
   "execution_count": null,
   "metadata": {},
   "outputs": [],
   "source": [
    "# Create a crosstab for HeartDiseaseorAttack and HvyAlcoholConsump\n",
    "CrosstabAlcohol = pd.crosstab(index=df['HeartDiseaseorAttack'], columns=df['HvyAlcoholConsump'])\n",
    "\n",
    "# Create the bar plot\n",
    "plt.figure(figsize=(10, 4))\n",
    "ax = CrosstabAlcohol.plot.bar(rot=0)\n",
    "\n",
    "# Add title and axes labels\n",
    "plt.title('Heart Disease or Attack vs. Heavy Alcohol Consumption', fontsize=14)\n",
    "plt.xlabel('Heart Disease or Attack (0 = No, 1 = Yes)', fontsize=12)\n",
    "plt.ylabel('Count', fontsize=12)\n",
    "\n",
    "# Add legend title\n",
    "plt.legend(title='Heavy Alcohol Consumption (0 = No, 1 = Yes)', fontsize=10)\n",
    "\n",
    "# Show the plot\n",
    "plt.tight_layout()  \n",
    "plt.show()"
   ]
  },
  {
   "cell_type": "markdown",
   "metadata": {},
   "source": [
    "## 8. Heart Disease and Income"
   ]
  },
  {
   "cell_type": "code",
   "execution_count": null,
   "metadata": {},
   "outputs": [],
   "source": [
    "# Create the crosstab for HeartDiseaseorAttack and Income\n",
    "CrosstabIncome = pd.crosstab(index=df['HeartDiseaseorAttack'], columns=df['Income'])\n",
    "\n",
    "# Create the bar plot\n",
    "plt.figure(figsize=(10, 4))\n",
    "ax = CrosstabIncome.plot.bar(rot=0)\n",
    "\n",
    "# Add title and axes labels\n",
    "plt.title('Heart Disease or Attack vs. Income Level', fontsize=14)\n",
    "plt.xlabel('Heart Disease or Attack (0 = No, 1 = Yes)', fontsize=12)\n",
    "plt.ylabel('Count', fontsize=12)\n",
    "\n",
    "# Add legend title\n",
    "plt.legend(title='Income Level', fontsize=10)\n",
    "\n",
    "# Show the plot\n",
    "plt.tight_layout()  \n",
    "plt.show()"
   ]
  },
  {
   "cell_type": "markdown",
   "metadata": {},
   "source": [
    "## 9. Heart Disease and Education"
   ]
  },
  {
   "cell_type": "code",
   "execution_count": null,
   "metadata": {},
   "outputs": [],
   "source": [
    "# Create the crosstab for HeartDiseaseorAttack and Education\n",
    "CrosstabEducation = pd.crosstab(index=df['HeartDiseaseorAttack'], columns=df['Education'])\n",
    "\n",
    "# Create the bar plot\n",
    "plt.figure(figsize=(10, 4))\n",
    "ax = CrosstabEducation.plot.bar(rot=0)\n",
    "\n",
    "# Add title and axes labels\n",
    "plt.title('Heart Disease or Attack vs. Education Level', fontsize=14)\n",
    "plt.xlabel('Heart Disease or Attack (0 = No, 1 = Yes)', fontsize=12)\n",
    "plt.ylabel('Count', fontsize=12)\n",
    "\n",
    "# Add legend title\n",
    "plt.legend(title='Education Level', fontsize=10)\n",
    "\n",
    "# Show the plot\n",
    "plt.tight_layout()  \n",
    "plt.show()"
   ]
  },
  {
   "cell_type": "markdown",
   "metadata": {},
   "source": [
    "## 11. Heart Disease and Anyhealthcare"
   ]
  },
  {
   "cell_type": "code",
   "execution_count": null,
   "metadata": {},
   "outputs": [],
   "source": [
    "# Create a crosstab for HeartDiseaseorAttack and HvyAlcoholConsump\n",
    "CrosstabAlcohol = pd.crosstab(index=df['HeartDiseaseorAttack'], columns=df['AnyHealthcare'])\n",
    "\n",
    "# Create the bar plot\n",
    "plt.figure(figsize=(10, 4))\n",
    "ax = CrosstabAlcohol.plot.bar(rot=0)\n",
    "\n",
    "# Add title and axes labels\n",
    "plt.title('Heart Disease or Attack vs. Any Health Care', fontsize=14)\n",
    "plt.xlabel('Heart Disease or Attack (0 = No, 1 = Yes)', fontsize=12)\n",
    "plt.ylabel('Count', fontsize=12)\n",
    "\n",
    "# Add legend title\n",
    "plt.legend(title='Any Health Care (0 = No, 1 = Yes)', fontsize=10)\n",
    "\n",
    "# Show the plot\n",
    "plt.tight_layout()  \n",
    "plt.show()"
   ]
  },
  {
   "cell_type": "markdown",
   "metadata": {},
   "source": [
    "## 12. Heart Disease and No doctor because of cost"
   ]
  },
  {
   "cell_type": "code",
   "execution_count": null,
   "metadata": {},
   "outputs": [],
   "source": [
    "# Create a crosstab for HeartDiseaseorAttack and HvyAlcoholConsump\n",
    "CrosstabAlcohol = pd.crosstab(index=df['HeartDiseaseorAttack'], columns=df['NoDocbcCost'])\n",
    "\n",
    "# Create the bar plot\n",
    "plt.figure(figsize=(10, 4))\n",
    "ax = CrosstabAlcohol.plot.bar(rot=0)\n",
    "\n",
    "# Add title and axes labels\n",
    "plt.title('Heart Disease or Attack vs. No Doctor because of cost', fontsize=14)\n",
    "plt.xlabel('Heart Disease or Attack (0 = No, 1 = Yes)', fontsize=12)\n",
    "plt.ylabel('Count', fontsize=12)\n",
    "\n",
    "# Add legend title\n",
    "plt.legend(title='No doctor because of cost (0 = No, 1 = Yes)', fontsize=10)\n",
    "\n",
    "# Show the plot\n",
    "plt.tight_layout()  \n",
    "plt.show()"
   ]
  },
  {
   "cell_type": "markdown",
   "metadata": {},
   "source": [
    "## 13. Heart Disease and Cholestrol Check"
   ]
  },
  {
   "cell_type": "code",
   "execution_count": null,
   "metadata": {},
   "outputs": [],
   "source": [
    "# Create a crosstab for HeartDiseaseorAttack and HvyAlcoholConsump\n",
    "CrosstabAlcohol = pd.crosstab(index=df['HeartDiseaseorAttack'], columns=df['CholCheck'])\n",
    "\n",
    "# Create the bar plot\n",
    "plt.figure(figsize=(10, 4))\n",
    "ax = CrosstabAlcohol.plot.bar(rot=0)\n",
    "\n",
    "# Add title and axes labels\n",
    "plt.title('Heart Disease or Attack vs. Cholestrol Check', fontsize=14)\n",
    "plt.xlabel('Heart Disease or Attack (0 = No, 1 = Yes)', fontsize=12)\n",
    "plt.ylabel('Count', fontsize=12)\n",
    "\n",
    "# Add legend title\n",
    "plt.legend(title='Cholestrok Check (0 = No, 1 = Yes)', fontsize=10)\n",
    "\n",
    "# Show the plot\n",
    "plt.tight_layout()  \n",
    "plt.show()"
   ]
  },
  {
   "cell_type": "markdown",
   "metadata": {},
   "source": [
    "## 14. Heart Disease and Veggies"
   ]
  },
  {
   "cell_type": "code",
   "execution_count": null,
   "metadata": {},
   "outputs": [],
   "source": [
    "# Create a crosstab for HeartDiseaseorAttack and HvyAlcoholConsump\n",
    "CrosstabAlcohol = pd.crosstab(index=df['HeartDiseaseorAttack'], columns=df['Veggies'])\n",
    "\n",
    "# Create the bar plot\n",
    "plt.figure(figsize=(10, 4))\n",
    "ax = CrosstabAlcohol.plot.bar(rot=0)\n",
    "\n",
    "# Add title and axes labels\n",
    "plt.title('Heart Disease or Attack vs. Veggies', fontsize=14)\n",
    "plt.xlabel('Heart Disease or Attack (0 = No, 1 = Yes)', fontsize=12)\n",
    "plt.ylabel('Count', fontsize=12)\n",
    "\n",
    "# Add legend title\n",
    "plt.legend(title='Veggies (0 = No, 1 = Yes)', fontsize=10)\n",
    "\n",
    "# Show the plot\n",
    "plt.tight_layout()  \n",
    "plt.show()"
   ]
  },
  {
   "cell_type": "markdown",
   "metadata": {},
   "source": [
    "## HeartAttack and Fruits"
   ]
  },
  {
   "cell_type": "code",
   "execution_count": null,
   "metadata": {},
   "outputs": [],
   "source": [
    "# Create a crosstab for HeartDiseaseorAttack and HvyAlcoholConsump\n",
    "CrosstabAlcohol = pd.crosstab(index=df['HeartDiseaseorAttack'], columns=df['Fruits'])\n",
    "\n",
    "# Create the bar plot\n",
    "plt.figure(figsize=(10, 4))\n",
    "ax = CrosstabAlcohol.plot.bar(rot=0)\n",
    "\n",
    "# Add title and axes labels\n",
    "plt.title('Heart Disease or Attack vs. Fruits', fontsize=14)\n",
    "plt.xlabel('Heart Disease or Attack (0 = No, 1 = Yes)', fontsize=12)\n",
    "plt.ylabel('Count', fontsize=12)\n",
    "\n",
    "# Add legend title\n",
    "plt.legend(title='Fruits (0 = No, 1 = Yes)', fontsize=10)\n",
    "\n",
    "# Show the plot\n",
    "plt.tight_layout()  \n",
    "plt.show()"
   ]
  },
  {
   "cell_type": "markdown",
   "metadata": {},
   "source": [
    "## Multivariate Analysis"
   ]
  },
  {
   "cell_type": "markdown",
   "metadata": {},
   "source": [
    "## 1. Heart Disease , High BP and High Cholestrol"
   ]
  },
  {
   "cell_type": "code",
   "execution_count": null,
   "metadata": {},
   "outputs": [],
   "source": [
    "# Filter relevant columns and group data\n",
    "df_filtered = df[['HeartDiseaseorAttack', 'HighBP', 'HighChol']]\n",
    "grouped_data = df_filtered.groupby(['HeartDiseaseorAttack', 'HighBP', 'HighChol']).size().reset_index(name='Count')\n",
    "\n",
    "# Pivot data to create a column chart format\n",
    "pivot_data = grouped_data.pivot_table(\n",
    "    index=['HighBP', 'HighChol'],\n",
    "    columns='HeartDiseaseorAttack',\n",
    "    values='Count'\n",
    ").fillna(0)\n",
    "\n",
    "# Rename columns for clarity\n",
    "pivot_data.columns = ['No Heart Attack', 'Heart Attack']\n",
    "\n",
    "# Plot the data as a bar plot\n",
    "pivot_data.plot(kind='bar', stacked=False, color=['skyblue', 'salmon'], figsize=(10, 4))\n",
    "\n",
    "# Add titles and labels\n",
    "plt.title(\"Heart Attack Occurrence by High Blood Pressure and High Cholesterol\", fontsize=14)\n",
    "plt.xlabel(\"High Blood Pressure and High Cholesterol (0 = No, 1 = Yes)\", fontsize=12)\n",
    "plt.ylabel(\"Count\", fontsize=12)\n",
    "plt.legend(title=\"Heart Attack Status\")\n",
    "\n",
    "# Display plot\n",
    "plt.xticks(rotation=0)\n",
    "plt.tight_layout()\n",
    "plt.show()"
   ]
  },
  {
   "cell_type": "markdown",
   "metadata": {},
   "source": [
    "## 2. Heart Disease , Income and High Education"
   ]
  },
  {
   "cell_type": "code",
   "execution_count": null,
   "metadata": {},
   "outputs": [],
   "source": [
    "# Define labels for income levels\n",
    "income_labels = [\n",
    "    '1: Less than $10,000', '2: $10,000 to $15,000', \n",
    "    '3: $15,000 to $20,000', '4: $20,000 to $25,000', \n",
    "    '5: $25,000 to $35,000', '6: $35,000 to $50,000', \n",
    "    '7: $50,000 to $75,000', '8: $75,000 or more'\n",
    "]\n",
    "\n",
    "# Crosstab for Heart Disease, Education, and Income\n",
    "crosstab_data = pd.crosstab(index=[df['HeartDiseaseorAttack'], df['Education']], columns=df['Income'])\n",
    "\n",
    "# Plotting\n",
    "plt.figure(figsize=(14, 8))\n",
    "crosstab_data.plot(kind='bar', stacked=True, colormap='viridis', figsize=(10, 4))\n",
    "\n",
    "# Add titles and labels\n",
    "plt.title('Heart Disease or Attack vs Education Level and Income Level', fontsize=16)\n",
    "plt.xlabel('Heart Disease or Attack and Income Levels', fontsize=12)\n",
    "plt.ylabel('Count', fontsize=12)\n",
    "plt.legend(title='Education Level (0 = No schooling, 6 = 4+ years of college)', title_fontsize='13', fontsize='10')\n",
    "\n",
    "# Show plot\n",
    "plt.tight_layout()\n",
    "plt.show()"
   ]
  },
  {
   "cell_type": "markdown",
   "metadata": {},
   "source": [
    "## Feature Engineering"
   ]
  },
  {
   "cell_type": "markdown",
   "metadata": {},
   "source": [
    "## Create New Features"
   ]
  },
  {
   "cell_type": "code",
   "execution_count": null,
   "metadata": {},
   "outputs": [],
   "source": [
    "# # Create 'is_red_flag' column based on 'HighBP' and 'HighChol' columns\n",
    "# df['is_red_flag'] = (df['HighBP'] == 1) & (df['HighChol'] == 1)\n",
    "\n",
    "# # Create 'food' column based on 'Veggies' and 'Fruits' columns\n",
    "# df['food'] = (df['Veggies'] == 1) & (df['Fruits'] == 1)"
   ]
  },
  {
   "cell_type": "markdown",
   "metadata": {},
   "source": [
    "#### Comment:\n",
    "- I created these features but these do not improve my model. So, I am going with my original fealtures."
   ]
  },
  {
   "cell_type": "code",
   "execution_count": null,
   "metadata": {},
   "outputs": [],
   "source": [
    "# Map Diabetes to binary: 0 = no diabetes, 1 = any diabetes (combines values 1 and 2)\n",
    "df['Diabetes'] = df['Diabetes'].apply(lambda x: 1 if x > 0 else 0)"
   ]
  },
  {
   "cell_type": "markdown",
   "metadata": {},
   "source": [
    "## Standardization"
   ]
  },
  {
   "cell_type": "code",
   "execution_count": null,
   "metadata": {},
   "outputs": [],
   "source": [
    "# Define numerical, ordinal, and categorical columns\n",
    "numerical_features = ['BMI', 'MentHlth', 'PhysHlth']\n",
    "ordinal_features = ['GenHlth', 'Education', 'Income', 'Age']  \n",
    "categorical_features = ['HeartDiseaseorAttack', 'HighBP', 'HighChol', 'CholCheck', 'Smoker',\n",
    "                        'Stroke', 'Diabetes', 'PhysActivity', 'Fruits', 'Veggies',\n",
    "                        'HvyAlcoholConsump', 'AnyHealthcare', 'NoDocbcCost', 'DiffWalk', 'Sex',]  \n",
    "\n",
    "# Ensure ordinal features are treated as integers\n",
    "df[ordinal_features] = df[ordinal_features].astype(int)\n",
    "\n",
    "# Pipeline for numerical features\n",
    "numerical_pipeline = Pipeline(steps=[\n",
    "    ('scaler', StandardScaler())\n",
    "])\n",
    "\n",
    "# Pipeline for ordinal features\n",
    "ordinal_pipeline = Pipeline(steps=[\n",
    "    ('ordinal', OrdinalEncoder())\n",
    "])\n",
    "\n",
    "# Pipeline for categorical features\n",
    "categorical_pipeline = Pipeline(steps=[\n",
    "    ('onehot', OneHotEncoder(drop='first'))\n",
    "])\n",
    "\n",
    "# Combine pipelines using ColumnTransformer\n",
    "preprocessor = ColumnTransformer(\n",
    "    transformers=[\n",
    "        ('num', numerical_pipeline, numerical_features),\n",
    "        ('ord', ordinal_pipeline, ordinal_features),\n",
    "        ('cat', categorical_pipeline, categorical_features)\n",
    "    ])\n",
    "\n",
    "# Apply transformations\n",
    "X = preprocessor.fit_transform(df)\n",
    "\n",
    "# Get feature names\n",
    "numerical_names = numerical_features\n",
    "ordinal_names = ordinal_features\n",
    "categorical_names = list(preprocessor.named_transformers_['cat']['onehot'].get_feature_names_out(categorical_features))\n",
    "\n",
    "feature_names = numerical_names + ordinal_names + categorical_names\n",
    "\n",
    "# Convert to DataFrame \n",
    "df = pd.DataFrame(X, columns=feature_names)\n",
    "\n",
    "# Display transformed features\n",
    "df.head()"
   ]
  },
  {
   "cell_type": "markdown",
   "metadata": {},
   "source": [
    "## Over Sampling"
   ]
  },
  {
   "cell_type": "code",
   "execution_count": null,
   "metadata": {},
   "outputs": [],
   "source": [
    "# Separate features (X) and target variable (y)\n",
    "X = df.drop(columns=['HeartDiseaseorAttack_1'])\n",
    "y = df['HeartDiseaseorAttack_1']\n",
    "\n",
    "# Instantiate SMOTE\n",
    "smote = SMOTE(random_state=42)\n",
    "\n",
    "# Apply SMOTE to generate synthetic samples\n",
    "X_resampled, y_resampled = smote.fit_resample(X, y)\n",
    "\n",
    "# Convert resampled data back to pandas DataFrame\n",
    "X_resampled_df = pd.DataFrame(X_resampled, columns=X.columns)\n",
    "y_resampled_series = pd.Series(y_resampled, name=y.name)\n",
    "resampled_df = pd.concat([X_resampled_df, y_resampled_series], axis=1)"
   ]
  },
  {
   "cell_type": "markdown",
   "metadata": {},
   "source": [
    "## New Dataset info"
   ]
  },
  {
   "cell_type": "code",
   "execution_count": null,
   "metadata": {},
   "outputs": [],
   "source": [
    "resampled_df.info()"
   ]
  },
  {
   "cell_type": "markdown",
   "metadata": {},
   "source": [
    "## Check for duplicates after Sampling"
   ]
  },
  {
   "cell_type": "code",
   "execution_count": null,
   "metadata": {},
   "outputs": [],
   "source": [
    "# Check for duplictes\n",
    "duplicates = resampled_df[resampled_df.duplicated()]\n",
    "duplicates"
   ]
  },
  {
   "cell_type": "markdown",
   "metadata": {},
   "source": [
    "## Remove Duplicates after Sampling"
   ]
  },
  {
   "cell_type": "code",
   "execution_count": null,
   "metadata": {},
   "outputs": [],
   "source": [
    "# Drop the duplicates\n",
    "resampled_df = resampled_df.drop_duplicates()"
   ]
  },
  {
   "cell_type": "code",
   "execution_count": null,
   "metadata": {},
   "outputs": [],
   "source": [
    "# Check agaim\n",
    "duplicates = resampled_df[resampled_df.duplicated()]\n",
    "duplicates"
   ]
  },
  {
   "cell_type": "markdown",
   "metadata": {},
   "source": [
    "## Check the Imbalancing after Sampling"
   ]
  },
  {
   "cell_type": "code",
   "execution_count": null,
   "metadata": {},
   "outputs": [],
   "source": [
    "# Plot heartdiseaseorAttack to check imbalancing\n",
    "sns.countplot(data=resampled_df,x='HeartDiseaseorAttack_1')"
   ]
  },
  {
   "cell_type": "code",
   "execution_count": null,
   "metadata": {},
   "outputs": [],
   "source": [
    "# Removing unnecessary columns\n",
    "df=df.drop(columns=['CholCheck_1','AnyHealthcare_1','HvyAlcoholConsump_1','NoDocbcCost_1'])"
   ]
  },
  {
   "cell_type": "markdown",
   "metadata": {},
   "source": [
    "#### Comment:\n",
    "- From Exploratory data analysis, remove the unnecessary columns 'Cholcheck', 'AnyHealthcare', 'HvyAlcoholConsump', 'NoDocbcCost' those dont impact the target variable"
   ]
  },
  {
   "cell_type": "markdown",
   "metadata": {},
   "source": [
    "## Save Preprocessed Data"
   ]
  },
  {
   "cell_type": "code",
   "execution_count": null,
   "metadata": {},
   "outputs": [],
   "source": [
    "import os\n",
    "# Create the data/processed directory if not exists\n",
    "os.makedirs('../data/processed', exist_ok=True)\n",
    "\n",
    "# Saving the Dataframe as a csv\n",
    "df.to_csv('../data/processed/Heart_disease.csv', index=False) "
   ]
  },
  {
   "cell_type": "code",
   "execution_count": null,
   "metadata": {},
   "outputs": [],
   "source": []
  }
 ],
 "metadata": {
  "kaggle": {
   "accelerator": "none",
   "dataSources": [
    {
     "datasetId": 1690571,
     "sourceId": 3277449,
     "sourceType": "datasetVersion"
    }
   ],
   "dockerImageVersionId": 30664,
   "isGpuEnabled": false,
   "isInternetEnabled": false,
   "language": "python",
   "sourceType": "notebook"
  },
  "kernelspec": {
   "display_name": "Python 3 (ipykernel)",
   "language": "python",
   "name": "python3"
  },
  "language_info": {
   "codemirror_mode": {
    "name": "ipython",
    "version": 3
   },
   "file_extension": ".py",
   "mimetype": "text/x-python",
   "name": "python",
   "nbconvert_exporter": "python",
   "pygments_lexer": "ipython3",
   "version": "3.11.5"
  }
 },
 "nbformat": 4,
 "nbformat_minor": 4
}
