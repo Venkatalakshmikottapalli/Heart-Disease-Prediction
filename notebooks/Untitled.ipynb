{
 "cells": [
  {
   "cell_type": "code",
   "execution_count": 2,
   "id": "a8e12924-4bbc-4a1a-a6d6-389b4dcf2d9a",
   "metadata": {},
   "outputs": [
    {
     "name": "stdout",
     "output_type": "stream",
     "text": [
      "        BMI  MentHlth  PhysHlth  GenHlth  Education  Income   Age  \\\n",
      "0  1.667211  1.879070  1.141305      4.0        3.0     2.0   8.0   \n",
      "1 -0.543127 -0.454439 -0.516790      2.0        5.0     0.0   6.0   \n",
      "2 -0.101059  3.434743  2.799400      4.0        3.0     7.0   8.0   \n",
      "3 -0.248415 -0.454439 -0.516790      1.0        2.0     5.0  10.0   \n",
      "4 -0.690483 -0.065520 -0.516790      1.0        4.0     3.0  10.0   \n",
      "\n",
      "   HeartDiseaseorAttack_1  HighBP_1  HighChol_1  ...  Diabetes_1  Diabetes_2  \\\n",
      "0                     0.0       1.0         1.0  ...         0.0         0.0   \n",
      "1                     0.0       0.0         0.0  ...         0.0         0.0   \n",
      "2                     0.0       1.0         1.0  ...         0.0         0.0   \n",
      "3                     0.0       1.0         0.0  ...         0.0         0.0   \n",
      "4                     0.0       1.0         1.0  ...         0.0         0.0   \n",
      "\n",
      "   PhysActivity_1  Fruits_1  Veggies_1  HvyAlcoholConsump_1  AnyHealthcare_1  \\\n",
      "0             0.0       0.0        1.0                  0.0              1.0   \n",
      "1             1.0       0.0        0.0                  0.0              0.0   \n",
      "2             0.0       1.0        0.0                  0.0              1.0   \n",
      "3             1.0       1.0        1.0                  0.0              1.0   \n",
      "4             1.0       1.0        1.0                  0.0              1.0   \n",
      "\n",
      "   NoDocbcCost_1  DiffWalk_1  Sex_1  \n",
      "0            0.0         1.0    0.0  \n",
      "1            1.0         0.0    0.0  \n",
      "2            1.0         1.0    0.0  \n",
      "3            0.0         0.0    0.0  \n",
      "4            0.0         0.0    0.0  \n",
      "\n",
      "[5 rows x 23 columns]\n",
      "Index(['BMI', 'MentHlth', 'PhysHlth', 'GenHlth', 'Education', 'Income', 'Age',\n",
      "       'HeartDiseaseorAttack_1', 'HighBP_1', 'HighChol_1', 'CholCheck_1',\n",
      "       'Smoker_1', 'Stroke_1', 'Diabetes_1', 'Diabetes_2', 'PhysActivity_1',\n",
      "       'Fruits_1', 'Veggies_1', 'HvyAlcoholConsump_1', 'AnyHealthcare_1',\n",
      "       'NoDocbcCost_1', 'DiffWalk_1', 'Sex_1'],\n",
      "      dtype='object')\n"
     ]
    },
    {
     "ename": "NameError",
     "evalue": "name 'X' is not defined",
     "output_type": "error",
     "traceback": [
      "\u001b[1;31m---------------------------------------------------------------------------\u001b[0m",
      "\u001b[1;31mNameError\u001b[0m                                 Traceback (most recent call last)",
      "Cell \u001b[1;32mIn[2], line 19\u001b[0m\n\u001b[0;32m     12\u001b[0m \u001b[38;5;28mprint\u001b[39m(df\u001b[38;5;241m.\u001b[39mcolumns)\n\u001b[0;32m     14\u001b[0m \u001b[38;5;66;03m# Split the data into features and target\u001b[39;00m\n\u001b[0;32m     15\u001b[0m \u001b[38;5;66;03m#X = df.drop('target', axis=1)  # Assuming 'target' is the column with the labels\u001b[39;00m\n\u001b[0;32m     16\u001b[0m \u001b[38;5;66;03m#y = df['target']\u001b[39;00m\n\u001b[0;32m     17\u001b[0m \n\u001b[0;32m     18\u001b[0m \u001b[38;5;66;03m# Split the data into training and test sets\u001b[39;00m\n\u001b[1;32m---> 19\u001b[0m X_train, X_test, y_train, y_test \u001b[38;5;241m=\u001b[39m train_test_split(X, y, test_size\u001b[38;5;241m=\u001b[39m\u001b[38;5;241m0.2\u001b[39m, random_state\u001b[38;5;241m=\u001b[39m\u001b[38;5;241m42\u001b[39m)\n\u001b[0;32m     21\u001b[0m \u001b[38;5;66;03m# Train the model\u001b[39;00m\n\u001b[0;32m     22\u001b[0m \u001b[38;5;28;01mdef\u001b[39;00m \u001b[38;5;21mtrain_model\u001b[39m(X, y):\n",
      "\u001b[1;31mNameError\u001b[0m: name 'X' is not defined"
     ]
    }
   ],
   "source": [
    "import os\n",
    "import joblib\n",
    "import pandas as pd\n",
    "\n",
    "from sklearn.ensemble import RandomForestClassifier\n",
    "from sklearn.model_selection import train_test_split\n",
    "from sklearn.metrics import accuracy_score\n",
    "\n",
    "# Load the data\n",
    "df = pd.read_csv(r'https://raw.githubusercontent.com/Venkatalakshmikottapalli/Heart-Disease-Prediction/refs/heads/main/data/processed/Heart_disease.csv')\n",
    "print(df.head())  \n",
    "print(df.columns)\n",
    "\n",
    "# Split the data into features and target\n",
    "#X = df.drop('target', axis=1)  # Assuming 'target' is the column with the labels\n",
    "#y = df['target']\n",
    "\n",
    "# Split the data into training and test sets\n",
    "X_train, X_test, y_train, y_test = train_test_split(X, y, test_size=0.2, random_state=42)\n",
    "\n",
    "# Train the model\n",
    "def train_model(X, y):\n",
    "    model = RandomForestClassifier(n_estimators=100, random_state=42)\n",
    "    model.fit(X, y)\n",
    "    return model\n",
    "\n",
    "# Test the model\n",
    "def test_model(X, y, model):\n",
    "    y_pred = model.predict(X)\n",
    "    return accuracy_score(y, y_pred)\n",
    "\n",
    "# Save the model to a file\n",
    "def save_model(model, filename, dirpath=''):\n",
    "    if dirpath:\n",
    "        os.makedirs(dirpath, exist_ok=True)\n",
    "    joblib.dump(model, f\"{dirpath}/{filename}\")\n",
    "\n",
    "# Main function\n",
    "if __name__ == \"__main__\":\n",
    "    # Train the model\n",
    "    model = train_model(X_train, y_train)\n",
    "\n",
    "    # Test the model\n",
    "    accuracy = test_model(X_test, y_test, model)\n",
    "    print(f\"Accuracy: {accuracy * 100:.2f}%\")\n",
    "\n",
    "    # Save the model as a .pkl file\n",
    "    save_model(model, \"heart_disease_model.pkl\", \"models\")\n"
   ]
  },
  {
   "cell_type": "code",
   "execution_count": null,
   "id": "d9d5e249-85d8-4363-83ef-6d8010e87fd7",
   "metadata": {},
   "outputs": [],
   "source": []
  }
 ],
 "metadata": {
  "kernelspec": {
   "display_name": "Python 3 (ipykernel)",
   "language": "python",
   "name": "python3"
  },
  "language_info": {
   "codemirror_mode": {
    "name": "ipython",
    "version": 3
   },
   "file_extension": ".py",
   "mimetype": "text/x-python",
   "name": "python",
   "nbconvert_exporter": "python",
   "pygments_lexer": "ipython3",
   "version": "3.11.5"
  }
 },
 "nbformat": 4,
 "nbformat_minor": 5
}
